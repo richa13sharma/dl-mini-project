{
  "cells": [
    {
      "cell_type": "code",
      "execution_count": null,
      "metadata": {
        "colab": {
          "base_uri": "https://localhost:8080/"
        },
        "id": "92486a54",
        "outputId": "f6d53510-0881-48fd-bef1-db296ba534d3"
      },
      "outputs": [
        {
          "output_type": "stream",
          "name": "stdout",
          "text": [
            "Looking in indexes: https://pypi.org/simple, https://us-python.pkg.dev/colab-wheels/public/simple/\n",
            "Requirement already satisfied: torch in /usr/local/lib/python3.7/dist-packages (1.12.1+cu113)\n",
            "Requirement already satisfied: typing-extensions in /usr/local/lib/python3.7/dist-packages (from torch) (4.1.1)\n",
            "Looking in indexes: https://pypi.org/simple, https://us-python.pkg.dev/colab-wheels/public/simple/\n",
            "Requirement already satisfied: torchvision in /usr/local/lib/python3.7/dist-packages (0.13.1+cu113)\n",
            "Requirement already satisfied: pillow!=8.3.*,>=5.3.0 in /usr/local/lib/python3.7/dist-packages (from torchvision) (7.1.2)\n",
            "Requirement already satisfied: numpy in /usr/local/lib/python3.7/dist-packages (from torchvision) (1.21.6)\n",
            "Requirement already satisfied: torch==1.12.1 in /usr/local/lib/python3.7/dist-packages (from torchvision) (1.12.1+cu113)\n",
            "Requirement already satisfied: typing-extensions in /usr/local/lib/python3.7/dist-packages (from torchvision) (4.1.1)\n",
            "Requirement already satisfied: requests in /usr/local/lib/python3.7/dist-packages (from torchvision) (2.23.0)\n",
            "Requirement already satisfied: urllib3!=1.25.0,!=1.25.1,<1.26,>=1.21.1 in /usr/local/lib/python3.7/dist-packages (from requests->torchvision) (1.24.3)\n",
            "Requirement already satisfied: idna<3,>=2.5 in /usr/local/lib/python3.7/dist-packages (from requests->torchvision) (2.10)\n",
            "Requirement already satisfied: chardet<4,>=3.0.2 in /usr/local/lib/python3.7/dist-packages (from requests->torchvision) (3.0.4)\n",
            "Requirement already satisfied: certifi>=2017.4.17 in /usr/local/lib/python3.7/dist-packages (from requests->torchvision) (2022.9.24)\n"
          ]
        }
      ],
      "source": [
        "!pip install torch\n",
        "!pip install torchvision\n",
        "import os\n",
        "import sys\n",
        "import time\n",
        "import math\n",
        "import torch.nn.init as init\n",
        "\n",
        "import torch\n",
        "import torch.nn as nn\n",
        "import torch.optim as optim\n",
        "import torch.nn.functional as F\n",
        "import torch.backends.cudnn as cudnn\n",
        "\n",
        "import torchvision\n",
        "import torchvision.transforms as transforms\n"
      ],
      "id": "92486a54"
    },
    {
      "cell_type": "markdown",
      "source": [
        "# lr =0.01\n",
        "# Number of epochs 50, 100 and 200\n",
        "# Optimizer: SGD and Adam\n",
        "For models 1A, 1E, 1F"
      ],
      "metadata": {
        "id": "3pASRSOzgoVN"
      },
      "id": "3pASRSOzgoVN"
    },
    {
      "cell_type": "markdown",
      "metadata": {
        "id": "c730ad1e"
      },
      "source": [
        "## Utility functions"
      ],
      "id": "c730ad1e"
    },
    {
      "cell_type": "code",
      "execution_count": null,
      "metadata": {
        "id": "9f6d5542"
      },
      "outputs": [],
      "source": [
        "def count_parameters(model):\n",
        "    return sum(p.numel() for p in model.parameters() if p.requires_grad)"
      ],
      "id": "9f6d5542"
    },
    {
      "cell_type": "markdown",
      "metadata": {
        "id": "0b38387e"
      },
      "source": [
        "## Building the Model"
      ],
      "id": "0b38387e"
    },
    {
      "cell_type": "markdown",
      "metadata": {
        "id": "0bbb98dc"
      },
      "source": [
        "### Basic ResNet 18 - 11M parameters"
      ],
      "id": "0bbb98dc"
    },
    {
      "cell_type": "code",
      "execution_count": null,
      "metadata": {
        "id": "63ba4847"
      },
      "outputs": [],
      "source": [
        "class BasicBlock(nn.Module):\n",
        "    expansion = 1\n",
        "\n",
        "    def __init__(self, in_planes, planes, stride=1):\n",
        "        super(BasicBlock, self).__init__()\n",
        "        self.conv1 = nn.Conv2d(\n",
        "            in_planes, planes, kernel_size=3, stride=stride, padding=1, bias=False)\n",
        "        self.bn1 = nn.BatchNorm2d(planes)\n",
        "        self.conv2 = nn.Conv2d(planes, planes, kernel_size=3,\n",
        "                               stride=1, padding=1, bias=False)\n",
        "        self.bn2 = nn.BatchNorm2d(planes)\n",
        "\n",
        "        self.shortcut = nn.Sequential()\n",
        "        if stride != 1 or in_planes != self.expansion*planes:\n",
        "            self.shortcut = nn.Sequential(\n",
        "                nn.Conv2d(in_planes, self.expansion*planes,\n",
        "                          kernel_size=1, stride=stride, bias=False),\n",
        "                nn.BatchNorm2d(self.expansion*planes)\n",
        "            )\n",
        "\n",
        "    def forward(self, x):\n",
        "        out = F.relu(self.bn1(self.conv1(x)))\n",
        "        out = self.bn2(self.conv2(out))\n",
        "        out += self.shortcut(x)\n",
        "        out = F.relu(out)\n",
        "        return out\n"
      ],
      "id": "63ba4847"
    },
    {
      "cell_type": "code",
      "execution_count": null,
      "metadata": {
        "id": "1a54719f"
      },
      "outputs": [],
      "source": [
        "class ResNet(nn.Module):\n",
        "    def __init__(self, block, num_blocks, num_classes=10):\n",
        "        super(ResNet, self).__init__()\n",
        "        self.in_planes = 64\n",
        "\n",
        "        self.conv1 = nn.Conv2d(3, 64, kernel_size=3,\n",
        "                               stride=1, padding=1, bias=False)\n",
        "        self.bn1 = nn.BatchNorm2d(64)\n",
        "        self.layer1 = self._make_layer(block, 64, num_blocks[0], stride=1)\n",
        "        self.layer2 = self._make_layer(block, 128, num_blocks[1], stride=2)\n",
        "        self.layer3 = self._make_layer(block, 256, num_blocks[2], stride=2)\n",
        "        # self.layer4 = self._make_layer(block, 512, num_blocks[3], stride=2)\n",
        "        self.linear = nn.Linear(256*block.expansion, num_classes)\n",
        "\n",
        "    def _make_layer(self, block, planes, num_blocks, stride):\n",
        "        strides = [stride] + [1]*(num_blocks-1)\n",
        "        layers = []\n",
        "        for stride in strides:\n",
        "            layers.append(block(self.in_planes, planes, stride))\n",
        "            self.in_planes = planes * block.expansion\n",
        "        return nn.Sequential(*layers)\n",
        "\n",
        "    def forward(self, x):\n",
        "        out = F.relu(self.bn1(self.conv1(x)))\n",
        "        out = self.layer1(out)\n",
        "        out = self.layer2(out)\n",
        "        out = self.layer3(out)\n",
        "        # out = self.layer4(out)\n",
        "        out = F.avg_pool2d(out, 6)\n",
        "        out = out.view(out.size(0), -1)\n",
        "        out = self.linear(out)\n",
        "        return out"
      ],
      "id": "1a54719f"
    },
    {
      "cell_type": "code",
      "execution_count": null,
      "metadata": {
        "id": "70057f9c"
      },
      "outputs": [],
      "source": [
        "def ResNet18():\n",
        "    return ResNet(BasicBlock, [2, 2, 2])"
      ],
      "id": "70057f9c"
    },
    {
      "cell_type": "code",
      "execution_count": null,
      "metadata": {
        "colab": {
          "base_uri": "https://localhost:8080/",
          "height": 35
        },
        "id": "45c084f8",
        "outputId": "d890dd28-aa45-4a22-d94b-dc079d20f7c8"
      },
      "outputs": [
        {
          "output_type": "execute_result",
          "data": {
            "text/plain": [
              "'cuda'"
            ],
            "application/vnd.google.colaboratory.intrinsic+json": {
              "type": "string"
            }
          },
          "metadata": {},
          "execution_count": 6
        }
      ],
      "source": [
        "device = 'cuda' if torch.cuda.is_available() else 'cpu'\n",
        "# global best_acc \n",
        "# best test accuracy\n",
        "best_acc = 0\n",
        "start_epoch = 0  # start from epoch 0 or last checkpoint epoch\n",
        "device"
      ],
      "id": "45c084f8"
    },
    {
      "cell_type": "markdown",
      "metadata": {
        "id": "dd4037b3"
      },
      "source": [
        "## Data Processing"
      ],
      "id": "dd4037b3"
    },
    {
      "cell_type": "code",
      "execution_count": null,
      "metadata": {
        "colab": {
          "base_uri": "https://localhost:8080/"
        },
        "id": "410d776c",
        "outputId": "4c85eeb2-00fe-4a8b-8812-14164825ad74"
      },
      "outputs": [
        {
          "output_type": "stream",
          "name": "stdout",
          "text": [
            "==> Preparing data..\n"
          ]
        }
      ],
      "source": [
        "# Data\n",
        "print('==> Preparing data..')\n",
        "transform_train = transforms.Compose([\n",
        "    transforms.RandomCrop(32, padding=4),\n",
        "    transforms.RandomHorizontalFlip(),\n",
        "    transforms.ToTensor(),\n",
        "    transforms.Normalize((0.4914, 0.4822, 0.4465), (0.2023, 0.1994, 0.2010)),\n",
        "])\n",
        "\n",
        "transform_test = transforms.Compose([\n",
        "    transforms.ToTensor(),\n",
        "    transforms.Normalize((0.4914, 0.4822, 0.4465), (0.2023, 0.1994, 0.2010)),\n",
        "])"
      ],
      "id": "410d776c"
    },
    {
      "cell_type": "code",
      "execution_count": null,
      "metadata": {
        "colab": {
          "base_uri": "https://localhost:8080/",
          "height": 138,
          "referenced_widgets": [
            "b288fe4ea29b4225887a70d80a9b8f52",
            "d10d7b9273dd4c0b86f36975fb2fbde4",
            "24ca96f8d05447728bb7785890e350aa",
            "644da2be47214866af89b575ee04e63d",
            "9f8a98855a3e4363a51d23243cf4017d",
            "25493eed60a94ae58aaf7ebb82a08d8a",
            "76fbbcbf15d14dbbba2a8cda1797869a",
            "5c87362314a448b9bfb848eb3a8d2d16",
            "2613498bdd48491988acaa89c361d1cf",
            "629c4bcca6c2459992a9822f4836202b",
            "7d196a237e8d4fd0948d31a283e3c7ab"
          ]
        },
        "id": "39a47a3f",
        "outputId": "246de82a-3b1b-481f-fb36-445d3baa4e15"
      },
      "outputs": [
        {
          "output_type": "stream",
          "name": "stdout",
          "text": [
            "Downloading https://www.cs.toronto.edu/~kriz/cifar-10-python.tar.gz to .data/cifar-10-python.tar.gz\n"
          ]
        },
        {
          "output_type": "display_data",
          "data": {
            "text/plain": [
              "  0%|          | 0/170498071 [00:00<?, ?it/s]"
            ],
            "application/vnd.jupyter.widget-view+json": {
              "version_major": 2,
              "version_minor": 0,
              "model_id": "b288fe4ea29b4225887a70d80a9b8f52"
            }
          },
          "metadata": {}
        },
        {
          "output_type": "stream",
          "name": "stdout",
          "text": [
            "Extracting .data/cifar-10-python.tar.gz to .data\n",
            "Files already downloaded and verified\n",
            "45000\n",
            "5000\n"
          ]
        }
      ],
      "source": [
        "\n",
        "ROOT = '.data'\n",
        "trainset = torchvision.datasets.CIFAR10(\n",
        "    root=ROOT, train=True, download=True, transform=transform_train)\n",
        "# trainloader = torch.utils.data.DataLoader(\n",
        "#     trainset, batch_size=128, shuffle=True, num_workers=2)\n",
        "\n",
        "testset = torchvision.datasets.CIFAR10(\n",
        "    root=ROOT , train=False, download=True, transform=transform_test)\n",
        "# testloader = torch.utils.data.DataLoader(\n",
        "#     testset, batch_size=100, shuffle=False, num_workers=2)\n",
        "VALID_RATIO = 0.9\n",
        "\n",
        "n_train_examples = int(len(trainset) * VALID_RATIO)\n",
        "n_valid_examples = len(trainset) - n_train_examples\n",
        "print(n_train_examples)\n",
        "print(n_valid_examples)\n",
        "generator=torch.Generator().manual_seed(42)\n",
        "\n",
        "train_data, valid_data = torch.utils.data.random_split(trainset, \n",
        "                                           [n_train_examples, n_valid_examples], generator = generator)"
      ],
      "id": "39a47a3f"
    },
    {
      "cell_type": "code",
      "execution_count": null,
      "metadata": {
        "id": "124fce21"
      },
      "outputs": [],
      "source": [
        "import copy\n",
        "valid_data = copy.deepcopy(valid_data)\n",
        "valid_data.dataset.transform = transform_test"
      ],
      "id": "124fce21"
    },
    {
      "cell_type": "code",
      "execution_count": null,
      "metadata": {
        "id": "32364ba8"
      },
      "outputs": [],
      "source": [
        "trainloader = torch.utils.data.DataLoader(train_data, batch_size = 256, shuffle = True, num_workers=2)\n",
        "validloader = torch.utils.data.DataLoader(valid_data, batch_size = 256, shuffle = True)\n",
        "testloader = torch.utils.data.DataLoader(testset, batch_size = 256, shuffle = False, num_workers=2)"
      ],
      "id": "32364ba8"
    },
    {
      "cell_type": "code",
      "execution_count": null,
      "metadata": {
        "id": "cce9ffd5"
      },
      "outputs": [],
      "source": [
        "classes = ('plane', 'car', 'bird', 'cat', 'deer',\n",
        "           'dog', 'frog', 'horse', 'ship', 'truck')"
      ],
      "id": "cce9ffd5"
    },
    {
      "cell_type": "code",
      "execution_count": null,
      "metadata": {
        "colab": {
          "base_uri": "https://localhost:8080/"
        },
        "id": "d52696b5",
        "outputId": "96382ea0-5723-43a0-d501-d7d30170fcc9"
      },
      "outputs": [
        {
          "output_type": "stream",
          "name": "stdout",
          "text": [
            "==> Building model..\n"
          ]
        }
      ],
      "source": [
        "print('==> Building model..')\n",
        "net = ResNet18()\n",
        "net = net.to(device)\n",
        "if device == 'cuda':\n",
        "    net = torch.nn.DataParallel(net)\n",
        "    cudnn.benchmark = True\n"
      ],
      "id": "d52696b5"
    },
    {
      "cell_type": "code",
      "execution_count": null,
      "metadata": {
        "colab": {
          "base_uri": "https://localhost:8080/"
        },
        "id": "5843bbf4",
        "outputId": "9bb07da6-0546-4879-9b09-e884eebdd77b",
        "scrolled": true
      },
      "outputs": [
        {
          "output_type": "stream",
          "name": "stdout",
          "text": [
            "Number of trainable parameters:  2777674\n"
          ]
        }
      ],
      "source": [
        "print(\"Number of trainable parameters: \",count_parameters(net))"
      ],
      "id": "5843bbf4"
    },
    {
      "cell_type": "code",
      "execution_count": null,
      "metadata": {
        "colab": {
          "base_uri": "https://localhost:8080/"
        },
        "id": "e0913d10",
        "outputId": "cc152c94-11b5-4dc4-ae63-3b2159e7a4af"
      },
      "outputs": [
        {
          "output_type": "execute_result",
          "data": {
            "text/plain": [
              "DataParallel(\n",
              "  (module): ResNet(\n",
              "    (conv1): Conv2d(3, 64, kernel_size=(3, 3), stride=(1, 1), padding=(1, 1), bias=False)\n",
              "    (bn1): BatchNorm2d(64, eps=1e-05, momentum=0.1, affine=True, track_running_stats=True)\n",
              "    (layer1): Sequential(\n",
              "      (0): BasicBlock(\n",
              "        (conv1): Conv2d(64, 64, kernel_size=(3, 3), stride=(1, 1), padding=(1, 1), bias=False)\n",
              "        (bn1): BatchNorm2d(64, eps=1e-05, momentum=0.1, affine=True, track_running_stats=True)\n",
              "        (conv2): Conv2d(64, 64, kernel_size=(3, 3), stride=(1, 1), padding=(1, 1), bias=False)\n",
              "        (bn2): BatchNorm2d(64, eps=1e-05, momentum=0.1, affine=True, track_running_stats=True)\n",
              "        (shortcut): Sequential()\n",
              "      )\n",
              "      (1): BasicBlock(\n",
              "        (conv1): Conv2d(64, 64, kernel_size=(3, 3), stride=(1, 1), padding=(1, 1), bias=False)\n",
              "        (bn1): BatchNorm2d(64, eps=1e-05, momentum=0.1, affine=True, track_running_stats=True)\n",
              "        (conv2): Conv2d(64, 64, kernel_size=(3, 3), stride=(1, 1), padding=(1, 1), bias=False)\n",
              "        (bn2): BatchNorm2d(64, eps=1e-05, momentum=0.1, affine=True, track_running_stats=True)\n",
              "        (shortcut): Sequential()\n",
              "      )\n",
              "    )\n",
              "    (layer2): Sequential(\n",
              "      (0): BasicBlock(\n",
              "        (conv1): Conv2d(64, 128, kernel_size=(3, 3), stride=(2, 2), padding=(1, 1), bias=False)\n",
              "        (bn1): BatchNorm2d(128, eps=1e-05, momentum=0.1, affine=True, track_running_stats=True)\n",
              "        (conv2): Conv2d(128, 128, kernel_size=(3, 3), stride=(1, 1), padding=(1, 1), bias=False)\n",
              "        (bn2): BatchNorm2d(128, eps=1e-05, momentum=0.1, affine=True, track_running_stats=True)\n",
              "        (shortcut): Sequential(\n",
              "          (0): Conv2d(64, 128, kernel_size=(1, 1), stride=(2, 2), bias=False)\n",
              "          (1): BatchNorm2d(128, eps=1e-05, momentum=0.1, affine=True, track_running_stats=True)\n",
              "        )\n",
              "      )\n",
              "      (1): BasicBlock(\n",
              "        (conv1): Conv2d(128, 128, kernel_size=(3, 3), stride=(1, 1), padding=(1, 1), bias=False)\n",
              "        (bn1): BatchNorm2d(128, eps=1e-05, momentum=0.1, affine=True, track_running_stats=True)\n",
              "        (conv2): Conv2d(128, 128, kernel_size=(3, 3), stride=(1, 1), padding=(1, 1), bias=False)\n",
              "        (bn2): BatchNorm2d(128, eps=1e-05, momentum=0.1, affine=True, track_running_stats=True)\n",
              "        (shortcut): Sequential()\n",
              "      )\n",
              "    )\n",
              "    (layer3): Sequential(\n",
              "      (0): BasicBlock(\n",
              "        (conv1): Conv2d(128, 256, kernel_size=(3, 3), stride=(2, 2), padding=(1, 1), bias=False)\n",
              "        (bn1): BatchNorm2d(256, eps=1e-05, momentum=0.1, affine=True, track_running_stats=True)\n",
              "        (conv2): Conv2d(256, 256, kernel_size=(3, 3), stride=(1, 1), padding=(1, 1), bias=False)\n",
              "        (bn2): BatchNorm2d(256, eps=1e-05, momentum=0.1, affine=True, track_running_stats=True)\n",
              "        (shortcut): Sequential(\n",
              "          (0): Conv2d(128, 256, kernel_size=(1, 1), stride=(2, 2), bias=False)\n",
              "          (1): BatchNorm2d(256, eps=1e-05, momentum=0.1, affine=True, track_running_stats=True)\n",
              "        )\n",
              "      )\n",
              "      (1): BasicBlock(\n",
              "        (conv1): Conv2d(256, 256, kernel_size=(3, 3), stride=(1, 1), padding=(1, 1), bias=False)\n",
              "        (bn1): BatchNorm2d(256, eps=1e-05, momentum=0.1, affine=True, track_running_stats=True)\n",
              "        (conv2): Conv2d(256, 256, kernel_size=(3, 3), stride=(1, 1), padding=(1, 1), bias=False)\n",
              "        (bn2): BatchNorm2d(256, eps=1e-05, momentum=0.1, affine=True, track_running_stats=True)\n",
              "        (shortcut): Sequential()\n",
              "      )\n",
              "    )\n",
              "    (linear): Linear(in_features=256, out_features=10, bias=True)\n",
              "  )\n",
              ")"
            ]
          },
          "metadata": {},
          "execution_count": 14
        }
      ],
      "source": [
        "net"
      ],
      "id": "e0913d10"
    },
    {
      "cell_type": "code",
      "execution_count": null,
      "metadata": {
        "id": "0f72a89c"
      },
      "outputs": [],
      "source": [
        "lr = 0.01"
      ],
      "id": "0f72a89c"
    },
    {
      "cell_type": "markdown",
      "source": [
        "## Currently this runs with SGD, to use adam please comment it out"
      ],
      "metadata": {
        "id": "MauJq7Smg0Jf"
      },
      "id": "MauJq7Smg0Jf"
    },
    {
      "cell_type": "code",
      "execution_count": null,
      "metadata": {
        "id": "d22402b7"
      },
      "outputs": [],
      "source": [
        "criterion = nn.CrossEntropyLoss()\n",
        "criterion = criterion.to(device)\n",
        "optimizer = optim.SGD(net.parameters(), lr=lr,\n",
        "                      momentum=0.9, weight_decay=5e-4)\n",
        "# optimizer = optim.Adam(net.parameters(), lr=lr,\n",
        "#                       weight_decay=5e-4)\n",
        "scheduler = torch.optim.lr_scheduler.CosineAnnealingLR(optimizer, T_max=200)"
      ],
      "id": "d22402b7"
    },
    {
      "cell_type": "code",
      "execution_count": null,
      "metadata": {
        "id": "dfe0301f"
      },
      "outputs": [],
      "source": [
        "def calculate_accuracy(y_pred, y):\n",
        "    top_pred = y_pred.argmax(1, keepdim = True)\n",
        "    correct = top_pred.eq(y.view_as(top_pred)).sum()\n",
        "    acc = correct.float() / y.shape[0]\n",
        "    return acc"
      ],
      "id": "dfe0301f"
    },
    {
      "cell_type": "code",
      "execution_count": null,
      "metadata": {
        "id": "5e3ffa80"
      },
      "outputs": [],
      "source": [
        "def train(net, iterator, optimizer, criterion, device):\n",
        "    epoch_loss = 0\n",
        "    epoch_acc = 0\n",
        "    net.train()\n",
        "    for (inputs, y) in iterator:\n",
        "        inputs = inputs.to(device)\n",
        "        y = y.to(device)\n",
        "        optimizer.zero_grad()\n",
        "        \n",
        "        y_pred = net(inputs)\n",
        "        loss = criterion(y_pred, y)\n",
        "        acc = calculate_accuracy(y_pred, y)\n",
        "        loss.backward()\n",
        "        optimizer.step()\n",
        "        epoch_loss += loss.item()\n",
        "        epoch_acc += acc.item()\n",
        "        \n",
        "    return epoch_loss / len(iterator), epoch_acc / len(iterator)"
      ],
      "id": "5e3ffa80"
    },
    {
      "cell_type": "code",
      "execution_count": null,
      "metadata": {
        "id": "8cacdb31"
      },
      "outputs": [],
      "source": [
        "def evaluate(net, iterator, criterion, device):\n",
        "    epoch_loss = 0\n",
        "    epoch_acc = 0\n",
        "    global best_acc\n",
        "    net.eval()\n",
        "    with torch.no_grad():\n",
        "        for (x, y) in iterator:\n",
        "            x = x.to(device)\n",
        "            y = y.to(device)\n",
        "            y_pred = net(x)\n",
        "            loss = criterion(y_pred, y)\n",
        "            acc = calculate_accuracy(y_pred, y)\n",
        "            epoch_loss += loss.item()\n",
        "            epoch_acc += acc.item()\n",
        "            \n",
        "    # acc = 100.*correct/total\n",
        "    if acc > best_acc:\n",
        "        print('Saving..')\n",
        "        if not os.path.isdir('checkpoint'):\n",
        "            os.mkdir('checkpoint')\n",
        "        # torch.save(state, './checkpoint/ckpt.pth')\n",
        "        torch.save(net.state_dict(), './checkpoint/model_Adam.pt')\n",
        "        best_acc = acc\n",
        "    # print(len(loader))\n",
        "    # return test_loss/len(loader), 100.*correct/total\n",
        "    return epoch_loss / len(iterator), epoch_acc / len(iterator)"
      ],
      "id": "8cacdb31"
    },
    {
      "cell_type": "markdown",
      "source": [
        "Please change the epochs to either 50,100 or 200"
      ],
      "metadata": {
        "id": "8nbPf_gChjGY"
      },
      "id": "8nbPf_gChjGY"
    },
    {
      "cell_type": "code",
      "execution_count": null,
      "metadata": {
        "id": "5579bf32"
      },
      "outputs": [],
      "source": [
        "EPOCHS = 200\n",
        "# best_acc = 0\n",
        "trainloss = []\n",
        "trainaccuracy = []\n",
        "validloss = []\n",
        "validaccuracy = []\n",
        "for epoch in range(EPOCHS):\n",
        "  train_epoch_loss , train_epoch_acc = train(net, trainloader, optimizer, criterion, device)\n",
        "  val_epoch_loss , val_epoch_acc = evaluate(net, validloader, criterion, device)\n",
        "  scheduler.step()\n",
        "  #print out training loss , accuracy\n",
        "  print(\"Epoch\", epoch)\n",
        "  print(\"Train loss & accuracy\", train_epoch_loss , train_epoch_acc)\n",
        "  #print validation loss , accuracy\n",
        "  print(\"Validation loss & accuracy\", val_epoch_loss , val_epoch_acc)\n",
        "  trainloss.append(train_epoch_loss)\n",
        "  trainaccuracy.append(train_epoch_acc)\n",
        "  validloss.append(val_epoch_loss)\n",
        "  validaccuracy.append(val_epoch_acc)"
      ],
      "id": "5579bf32"
    },
    {
      "cell_type": "code",
      "execution_count": null,
      "metadata": {
        "colab": {
          "base_uri": "https://localhost:8080/"
        },
        "id": "0cb8aca0",
        "outputId": "821c716a-d7dc-4d9d-a582-5eadcc313685"
      },
      "outputs": [
        {
          "output_type": "stream",
          "name": "stdout",
          "text": [
            "test loss and accuracy:  1.2480855196714402 0.6744140625\n"
          ]
        }
      ],
      "source": [
        "# net.load_state_dict(torch.load('./checkpoint/model_Adam.pt'))\n",
        "testaccuracy = []\n",
        "testloss = []\n",
        "# for epoch in range(EPOCHS):\n",
        "#     print('\\nEpoch: %d' % epoch)\n",
        "#     test_loss_epoch, test_acc = evaluate(net, testloader,criterion, device)\n",
        "#     testaccuracy.append(test_acc)\n",
        "#     print(\"test loss and accuracy: \", test_loss_epoch, test_acc)\n",
        "#     testloss.append(test_loss_epoch)\n",
        "\n",
        "test_loss_epoch, test_acc = evaluate(net, testloader,criterion, device)\n",
        "testaccuracy.append(test_acc)\n",
        "print(\"test loss and accuracy: \", test_loss_epoch, test_acc)\n",
        "testloss.append(test_loss_epoch)"
      ],
      "id": "0cb8aca0"
    },
    {
      "cell_type": "code",
      "execution_count": null,
      "metadata": {
        "id": "f1cd86aa-faef-492d-97dc-d5aff8c1fe9f"
      },
      "outputs": [],
      "source": [
        "!pip install matplotlib\n",
        "import matplotlib.pyplot as plt"
      ],
      "id": "f1cd86aa-faef-492d-97dc-d5aff8c1fe9f"
    },
    {
      "cell_type": "code",
      "execution_count": null,
      "metadata": {
        "id": "2f8bdccc-cd4f-4131-94c5-dda71dc882cd"
      },
      "outputs": [],
      "source": [
        "plt.plot(range(len(trainloss)), trainloss,'-', linewidth=3, label='Train loss')\n",
        "plt.plot(range(len(validloss)), validloss,'-', linewidth=3, label='Valid loss')\n",
        "plt.xlabel('Epoch')\n",
        "plt.ylabel('Loss')\n",
        "plt.grid()\n",
        "plt.legend()\n",
        "plt.savefig(\"initial.png\")"
      ],
      "id": "2f8bdccc-cd4f-4131-94c5-dda71dc882cd"
    },
    {
      "cell_type": "code",
      "execution_count": null,
      "metadata": {
        "id": "b1a66ef3-6f1f-4268-a805-8ab934f99603"
      },
      "outputs": [],
      "source": [
        "plt.plot(range(len(trainaccuracy)), trainaccuracy,'-', linewidth=3, label='Train accuracy')\n",
        "plt.plot(range(len(validaccuracy)), validaccuracy,'-', linewidth=3, label='Valid accuracy')\n",
        "plt.xlabel('Epoch')\n",
        "plt.ylabel('Accuracy')\n",
        "plt.grid()\n",
        "plt.legend()\n",
        "plt.savefig(\"accuracy1.png\")"
      ],
      "id": "b1a66ef3-6f1f-4268-a805-8ab934f99603"
    },
    {
      "cell_type": "code",
      "execution_count": null,
      "metadata": {
        "id": "382cc5fe-049f-4cbe-af69-8daa16c2b5a0"
      },
      "outputs": [],
      "source": [],
      "id": "382cc5fe-049f-4cbe-af69-8daa16c2b5a0"
    }
  ],
  "metadata": {
    "accelerator": "GPU",
    "colab": {
      "provenance": []
    },
    "gpuClass": "premium",
    "kernelspec": {
      "display_name": "default:Python",
      "language": "python",
      "name": "conda-env-default-py"
    },
    "language_info": {
      "codemirror_mode": {
        "name": "ipython",
        "version": 3
      },
      "file_extension": ".py",
      "mimetype": "text/x-python",
      "name": "python",
      "nbconvert_exporter": "python",
      "pygments_lexer": "ipython3",
      "version": "3.9.13"
    },
    "toc-autonumbering": true,
    "toc-showcode": true,
    "widgets": {
      "application/vnd.jupyter.widget-state+json": {
        "b288fe4ea29b4225887a70d80a9b8f52": {
          "model_module": "@jupyter-widgets/controls",
          "model_name": "HBoxModel",
          "model_module_version": "1.5.0",
          "state": {
            "_dom_classes": [],
            "_model_module": "@jupyter-widgets/controls",
            "_model_module_version": "1.5.0",
            "_model_name": "HBoxModel",
            "_view_count": null,
            "_view_module": "@jupyter-widgets/controls",
            "_view_module_version": "1.5.0",
            "_view_name": "HBoxView",
            "box_style": "",
            "children": [
              "IPY_MODEL_d10d7b9273dd4c0b86f36975fb2fbde4",
              "IPY_MODEL_24ca96f8d05447728bb7785890e350aa",
              "IPY_MODEL_644da2be47214866af89b575ee04e63d"
            ],
            "layout": "IPY_MODEL_9f8a98855a3e4363a51d23243cf4017d"
          }
        },
        "d10d7b9273dd4c0b86f36975fb2fbde4": {
          "model_module": "@jupyter-widgets/controls",
          "model_name": "HTMLModel",
          "model_module_version": "1.5.0",
          "state": {
            "_dom_classes": [],
            "_model_module": "@jupyter-widgets/controls",
            "_model_module_version": "1.5.0",
            "_model_name": "HTMLModel",
            "_view_count": null,
            "_view_module": "@jupyter-widgets/controls",
            "_view_module_version": "1.5.0",
            "_view_name": "HTMLView",
            "description": "",
            "description_tooltip": null,
            "layout": "IPY_MODEL_25493eed60a94ae58aaf7ebb82a08d8a",
            "placeholder": "​",
            "style": "IPY_MODEL_76fbbcbf15d14dbbba2a8cda1797869a",
            "value": "100%"
          }
        },
        "24ca96f8d05447728bb7785890e350aa": {
          "model_module": "@jupyter-widgets/controls",
          "model_name": "FloatProgressModel",
          "model_module_version": "1.5.0",
          "state": {
            "_dom_classes": [],
            "_model_module": "@jupyter-widgets/controls",
            "_model_module_version": "1.5.0",
            "_model_name": "FloatProgressModel",
            "_view_count": null,
            "_view_module": "@jupyter-widgets/controls",
            "_view_module_version": "1.5.0",
            "_view_name": "ProgressView",
            "bar_style": "success",
            "description": "",
            "description_tooltip": null,
            "layout": "IPY_MODEL_5c87362314a448b9bfb848eb3a8d2d16",
            "max": 170498071,
            "min": 0,
            "orientation": "horizontal",
            "style": "IPY_MODEL_2613498bdd48491988acaa89c361d1cf",
            "value": 170498071
          }
        },
        "644da2be47214866af89b575ee04e63d": {
          "model_module": "@jupyter-widgets/controls",
          "model_name": "HTMLModel",
          "model_module_version": "1.5.0",
          "state": {
            "_dom_classes": [],
            "_model_module": "@jupyter-widgets/controls",
            "_model_module_version": "1.5.0",
            "_model_name": "HTMLModel",
            "_view_count": null,
            "_view_module": "@jupyter-widgets/controls",
            "_view_module_version": "1.5.0",
            "_view_name": "HTMLView",
            "description": "",
            "description_tooltip": null,
            "layout": "IPY_MODEL_629c4bcca6c2459992a9822f4836202b",
            "placeholder": "​",
            "style": "IPY_MODEL_7d196a237e8d4fd0948d31a283e3c7ab",
            "value": " 170498071/170498071 [00:02&lt;00:00, 68912110.20it/s]"
          }
        },
        "9f8a98855a3e4363a51d23243cf4017d": {
          "model_module": "@jupyter-widgets/base",
          "model_name": "LayoutModel",
          "model_module_version": "1.2.0",
          "state": {
            "_model_module": "@jupyter-widgets/base",
            "_model_module_version": "1.2.0",
            "_model_name": "LayoutModel",
            "_view_count": null,
            "_view_module": "@jupyter-widgets/base",
            "_view_module_version": "1.2.0",
            "_view_name": "LayoutView",
            "align_content": null,
            "align_items": null,
            "align_self": null,
            "border": null,
            "bottom": null,
            "display": null,
            "flex": null,
            "flex_flow": null,
            "grid_area": null,
            "grid_auto_columns": null,
            "grid_auto_flow": null,
            "grid_auto_rows": null,
            "grid_column": null,
            "grid_gap": null,
            "grid_row": null,
            "grid_template_areas": null,
            "grid_template_columns": null,
            "grid_template_rows": null,
            "height": null,
            "justify_content": null,
            "justify_items": null,
            "left": null,
            "margin": null,
            "max_height": null,
            "max_width": null,
            "min_height": null,
            "min_width": null,
            "object_fit": null,
            "object_position": null,
            "order": null,
            "overflow": null,
            "overflow_x": null,
            "overflow_y": null,
            "padding": null,
            "right": null,
            "top": null,
            "visibility": null,
            "width": null
          }
        },
        "25493eed60a94ae58aaf7ebb82a08d8a": {
          "model_module": "@jupyter-widgets/base",
          "model_name": "LayoutModel",
          "model_module_version": "1.2.0",
          "state": {
            "_model_module": "@jupyter-widgets/base",
            "_model_module_version": "1.2.0",
            "_model_name": "LayoutModel",
            "_view_count": null,
            "_view_module": "@jupyter-widgets/base",
            "_view_module_version": "1.2.0",
            "_view_name": "LayoutView",
            "align_content": null,
            "align_items": null,
            "align_self": null,
            "border": null,
            "bottom": null,
            "display": null,
            "flex": null,
            "flex_flow": null,
            "grid_area": null,
            "grid_auto_columns": null,
            "grid_auto_flow": null,
            "grid_auto_rows": null,
            "grid_column": null,
            "grid_gap": null,
            "grid_row": null,
            "grid_template_areas": null,
            "grid_template_columns": null,
            "grid_template_rows": null,
            "height": null,
            "justify_content": null,
            "justify_items": null,
            "left": null,
            "margin": null,
            "max_height": null,
            "max_width": null,
            "min_height": null,
            "min_width": null,
            "object_fit": null,
            "object_position": null,
            "order": null,
            "overflow": null,
            "overflow_x": null,
            "overflow_y": null,
            "padding": null,
            "right": null,
            "top": null,
            "visibility": null,
            "width": null
          }
        },
        "76fbbcbf15d14dbbba2a8cda1797869a": {
          "model_module": "@jupyter-widgets/controls",
          "model_name": "DescriptionStyleModel",
          "model_module_version": "1.5.0",
          "state": {
            "_model_module": "@jupyter-widgets/controls",
            "_model_module_version": "1.5.0",
            "_model_name": "DescriptionStyleModel",
            "_view_count": null,
            "_view_module": "@jupyter-widgets/base",
            "_view_module_version": "1.2.0",
            "_view_name": "StyleView",
            "description_width": ""
          }
        },
        "5c87362314a448b9bfb848eb3a8d2d16": {
          "model_module": "@jupyter-widgets/base",
          "model_name": "LayoutModel",
          "model_module_version": "1.2.0",
          "state": {
            "_model_module": "@jupyter-widgets/base",
            "_model_module_version": "1.2.0",
            "_model_name": "LayoutModel",
            "_view_count": null,
            "_view_module": "@jupyter-widgets/base",
            "_view_module_version": "1.2.0",
            "_view_name": "LayoutView",
            "align_content": null,
            "align_items": null,
            "align_self": null,
            "border": null,
            "bottom": null,
            "display": null,
            "flex": null,
            "flex_flow": null,
            "grid_area": null,
            "grid_auto_columns": null,
            "grid_auto_flow": null,
            "grid_auto_rows": null,
            "grid_column": null,
            "grid_gap": null,
            "grid_row": null,
            "grid_template_areas": null,
            "grid_template_columns": null,
            "grid_template_rows": null,
            "height": null,
            "justify_content": null,
            "justify_items": null,
            "left": null,
            "margin": null,
            "max_height": null,
            "max_width": null,
            "min_height": null,
            "min_width": null,
            "object_fit": null,
            "object_position": null,
            "order": null,
            "overflow": null,
            "overflow_x": null,
            "overflow_y": null,
            "padding": null,
            "right": null,
            "top": null,
            "visibility": null,
            "width": null
          }
        },
        "2613498bdd48491988acaa89c361d1cf": {
          "model_module": "@jupyter-widgets/controls",
          "model_name": "ProgressStyleModel",
          "model_module_version": "1.5.0",
          "state": {
            "_model_module": "@jupyter-widgets/controls",
            "_model_module_version": "1.5.0",
            "_model_name": "ProgressStyleModel",
            "_view_count": null,
            "_view_module": "@jupyter-widgets/base",
            "_view_module_version": "1.2.0",
            "_view_name": "StyleView",
            "bar_color": null,
            "description_width": ""
          }
        },
        "629c4bcca6c2459992a9822f4836202b": {
          "model_module": "@jupyter-widgets/base",
          "model_name": "LayoutModel",
          "model_module_version": "1.2.0",
          "state": {
            "_model_module": "@jupyter-widgets/base",
            "_model_module_version": "1.2.0",
            "_model_name": "LayoutModel",
            "_view_count": null,
            "_view_module": "@jupyter-widgets/base",
            "_view_module_version": "1.2.0",
            "_view_name": "LayoutView",
            "align_content": null,
            "align_items": null,
            "align_self": null,
            "border": null,
            "bottom": null,
            "display": null,
            "flex": null,
            "flex_flow": null,
            "grid_area": null,
            "grid_auto_columns": null,
            "grid_auto_flow": null,
            "grid_auto_rows": null,
            "grid_column": null,
            "grid_gap": null,
            "grid_row": null,
            "grid_template_areas": null,
            "grid_template_columns": null,
            "grid_template_rows": null,
            "height": null,
            "justify_content": null,
            "justify_items": null,
            "left": null,
            "margin": null,
            "max_height": null,
            "max_width": null,
            "min_height": null,
            "min_width": null,
            "object_fit": null,
            "object_position": null,
            "order": null,
            "overflow": null,
            "overflow_x": null,
            "overflow_y": null,
            "padding": null,
            "right": null,
            "top": null,
            "visibility": null,
            "width": null
          }
        },
        "7d196a237e8d4fd0948d31a283e3c7ab": {
          "model_module": "@jupyter-widgets/controls",
          "model_name": "DescriptionStyleModel",
          "model_module_version": "1.5.0",
          "state": {
            "_model_module": "@jupyter-widgets/controls",
            "_model_module_version": "1.5.0",
            "_model_name": "DescriptionStyleModel",
            "_view_count": null,
            "_view_module": "@jupyter-widgets/base",
            "_view_module_version": "1.2.0",
            "_view_name": "StyleView",
            "description_width": ""
          }
        }
      }
    }
  },
  "nbformat": 4,
  "nbformat_minor": 5
}