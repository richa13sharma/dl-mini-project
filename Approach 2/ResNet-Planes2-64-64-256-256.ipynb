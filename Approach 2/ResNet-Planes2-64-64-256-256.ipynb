{
 "cells": [
  {
   "cell_type": "code",
   "execution_count": 65,
   "metadata": {},
   "outputs": [
    {
     "name": "stdout",
     "output_type": "stream",
     "text": [
      "Defaulting to user installation because normal site-packages is not writeable\n",
      "Requirement already satisfied: torch in /home/lk2719/.local/lib/python3.8/site-packages (1.13.0)\n",
      "Requirement already satisfied: nvidia-cuda-runtime-cu11==11.7.99 in /home/lk2719/.local/lib/python3.8/site-packages (from torch) (11.7.99)\n",
      "Requirement already satisfied: nvidia-cudnn-cu11==8.5.0.96 in /home/lk2719/.local/lib/python3.8/site-packages (from torch) (8.5.0.96)\n",
      "Requirement already satisfied: nvidia-cublas-cu11==11.10.3.66 in /home/lk2719/.local/lib/python3.8/site-packages (from torch) (11.10.3.66)\n",
      "Requirement already satisfied: nvidia-cuda-nvrtc-cu11==11.7.99 in /home/lk2719/.local/lib/python3.8/site-packages (from torch) (11.7.99)\n",
      "Requirement already satisfied: typing-extensions in /home/lk2719/.local/lib/python3.8/site-packages (from torch) (4.4.0)\n",
      "Requirement already satisfied: setuptools in /share/apps/python/3.8.6/intel/lib/python3.8/site-packages (from nvidia-cuda-runtime-cu11==11.7.99->torch) (49.2.1)\n",
      "Requirement already satisfied: wheel in /share/apps/python/3.8.6/intel/lib/python3.8/site-packages (from nvidia-cuda-runtime-cu11==11.7.99->torch) (0.35.1)\n",
      "\u001b[33mWARNING: You are using pip version 20.2.3; however, version 22.3.1 is available.\n",
      "You should consider upgrading via the '/share/apps/python/3.8.6/intel/bin/python -m pip install --upgrade pip' command.\u001b[0m\n",
      "Defaulting to user installation because normal site-packages is not writeable\n",
      "Requirement already satisfied: torchvision in /home/lk2719/.local/lib/python3.8/site-packages (0.14.0)\n",
      "Requirement already satisfied: pillow!=8.3.*,>=5.3.0 in /share/apps/python/3.8.6/intel/lib/python3.8/site-packages (from torchvision) (8.0.1)\n",
      "Requirement already satisfied: requests in /share/apps/python/3.8.6/intel/lib/python3.8/site-packages (from torchvision) (2.24.0)\n",
      "Requirement already satisfied: numpy in /share/apps/python/3.8.6/intel/lib/python3.8/site-packages/numpy-1.19.2-py3.8-linux-x86_64.egg (from torchvision) (1.19.2)\n",
      "Requirement already satisfied: torch==1.13.0 in /home/lk2719/.local/lib/python3.8/site-packages (from torchvision) (1.13.0)\n",
      "Requirement already satisfied: typing-extensions in /home/lk2719/.local/lib/python3.8/site-packages (from torchvision) (4.4.0)\n",
      "Requirement already satisfied: chardet<4,>=3.0.2 in /share/apps/python/3.8.6/intel/lib/python3.8/site-packages (from requests->torchvision) (3.0.4)\n",
      "Requirement already satisfied: certifi>=2017.4.17 in /share/apps/python/3.8.6/intel/lib/python3.8/site-packages (from requests->torchvision) (2020.6.20)\n",
      "Requirement already satisfied: urllib3!=1.25.0,!=1.25.1,<1.26,>=1.21.1 in /share/apps/python/3.8.6/intel/lib/python3.8/site-packages (from requests->torchvision) (1.25.10)\n",
      "Requirement already satisfied: idna<3,>=2.5 in /share/apps/python/3.8.6/intel/lib/python3.8/site-packages (from requests->torchvision) (2.10)\n",
      "Requirement already satisfied: nvidia-cuda-runtime-cu11==11.7.99 in /home/lk2719/.local/lib/python3.8/site-packages (from torch==1.13.0->torchvision) (11.7.99)\n",
      "Requirement already satisfied: nvidia-cublas-cu11==11.10.3.66 in /home/lk2719/.local/lib/python3.8/site-packages (from torch==1.13.0->torchvision) (11.10.3.66)\n",
      "Requirement already satisfied: nvidia-cuda-nvrtc-cu11==11.7.99 in /home/lk2719/.local/lib/python3.8/site-packages (from torch==1.13.0->torchvision) (11.7.99)\n",
      "Requirement already satisfied: nvidia-cudnn-cu11==8.5.0.96 in /home/lk2719/.local/lib/python3.8/site-packages (from torch==1.13.0->torchvision) (8.5.0.96)\n",
      "Requirement already satisfied: wheel in /share/apps/python/3.8.6/intel/lib/python3.8/site-packages (from nvidia-cuda-runtime-cu11==11.7.99->torch==1.13.0->torchvision) (0.35.1)\n",
      "Requirement already satisfied: setuptools in /share/apps/python/3.8.6/intel/lib/python3.8/site-packages (from nvidia-cuda-runtime-cu11==11.7.99->torch==1.13.0->torchvision) (49.2.1)\n",
      "\u001b[33mWARNING: You are using pip version 20.2.3; however, version 22.3.1 is available.\n",
      "You should consider upgrading via the '/share/apps/python/3.8.6/intel/bin/python -m pip install --upgrade pip' command.\u001b[0m\n"
     ]
    }
   ],
   "source": [
    "!pip install torch\n",
    "!pip install torchvision\n",
    "import os\n",
    "import sys\n",
    "import time\n",
    "import math\n",
    "import torch.nn.init as init\n",
    "\n",
    "import torch\n",
    "import torch.nn as nn\n",
    "import torch.optim as optim\n",
    "import torch.nn.functional as F\n",
    "import torch.backends.cudnn as cudnn\n",
    "\n",
    "import torchvision\n",
    "import torchvision.transforms as transforms\n",
    "import matplotlib.pyplot as plt"
   ]
  },
  {
   "cell_type": "code",
   "execution_count": 66,
   "metadata": {},
   "outputs": [
    {
     "name": "stdout",
     "output_type": "stream",
     "text": [
      "Defaulting to user installation because normal site-packages is not writeable\n",
      "Requirement already satisfied: torch-summary in /home/lk2719/.local/lib/python3.8/site-packages (1.4.5)\n",
      "\u001b[33mWARNING: You are using pip version 20.2.3; however, version 22.3.1 is available.\n",
      "You should consider upgrading via the '/share/apps/python/3.8.6/intel/bin/python -m pip install --upgrade pip' command.\u001b[0m\n"
     ]
    }
   ],
   "source": [
    "!pip install torch-summary"
   ]
  },
  {
   "cell_type": "markdown",
   "metadata": {},
   "source": [
    "## Utility functions"
   ]
  },
  {
   "cell_type": "code",
   "execution_count": 67,
   "metadata": {},
   "outputs": [],
   "source": [
    "def count_parameters(model):\n",
    "    return sum(p.numel() for p in model.parameters() if p.requires_grad)"
   ]
  },
  {
   "cell_type": "markdown",
   "metadata": {},
   "source": [
    "## Building the Model"
   ]
  },
  {
   "cell_type": "markdown",
   "metadata": {},
   "source": [
    "### Basic ResNet 18 - Changing Planes - 4.6M parameters"
   ]
  },
  {
   "cell_type": "code",
   "execution_count": 68,
   "metadata": {},
   "outputs": [],
   "source": [
    "class BasicBlock(nn.Module):\n",
    "    expansion = 1\n",
    "\n",
    "    def __init__(self, in_planes, planes, stride=1):\n",
    "        super(BasicBlock, self).__init__()\n",
    "        self.conv1 = nn.Conv2d(\n",
    "            in_planes, planes, kernel_size=3, stride=stride, padding=1, bias=False)\n",
    "        self.bn1 = nn.BatchNorm2d(planes)\n",
    "        self.conv2 = nn.Conv2d(planes, planes, kernel_size=3,\n",
    "                               stride=1, padding=1, bias=False)\n",
    "        self.bn2 = nn.BatchNorm2d(planes)\n",
    "\n",
    "        self.shortcut = nn.Sequential()\n",
    "        if stride != 1 or in_planes != self.expansion*planes:\n",
    "            self.shortcut = nn.Sequential(\n",
    "                nn.Conv2d(in_planes, self.expansion*planes,\n",
    "                          kernel_size=1, stride=stride, bias=False),\n",
    "                nn.BatchNorm2d(self.expansion*planes)\n",
    "            )\n",
    "\n",
    "    def forward(self, x):\n",
    "        out = F.relu(self.bn1(self.conv1(x)))\n",
    "        out = self.bn2(self.conv2(out))\n",
    "        out += self.shortcut(x)\n",
    "        out = F.relu(out)\n",
    "        return out\n"
   ]
  },
  {
   "cell_type": "code",
   "execution_count": 69,
   "metadata": {},
   "outputs": [],
   "source": [
    "class ResNet(nn.Module):\n",
    "    def __init__(self, block, num_blocks, num_classes=10):\n",
    "        super(ResNet, self).__init__()\n",
    "        self.in_planes = 64\n",
    "\n",
    "        self.conv1 = nn.Conv2d(3, 64, kernel_size=3,\n",
    "                               stride=1, padding=1, bias=False)\n",
    "        self.bn1 = nn.BatchNorm2d(64)\n",
    "#         self.maxpool = nn.MaxPool2d(kernel_size=3, stride=2, padding=1)\n",
    "        self.layer1 = self._make_layer(block, 64, num_blocks[0], stride=1)\n",
    "        self.layer2 = self._make_layer(block, 64, num_blocks[1], stride=2)\n",
    "        self.layer3 = self._make_layer(block, 256, num_blocks[2], stride=2)\n",
    "        self.layer4 = self._make_layer(block, 256, num_blocks[3], stride=2)\n",
    "        self.linear = nn.Linear(256*block.expansion, num_classes)\n",
    "\n",
    "    def _make_layer(self, block, planes, num_blocks, stride):\n",
    "        strides = [stride] + [1]*(num_blocks-1)\n",
    "        layers = []\n",
    "        for stride in strides:\n",
    "            layers.append(block(self.in_planes, planes, stride))\n",
    "            self.in_planes = planes * block.expansion\n",
    "        return nn.Sequential(*layers)\n",
    "\n",
    "    def forward(self, x):\n",
    "        out = F.relu(self.bn1(self.conv1(x)))\n",
    "        out = self.layer1(out)\n",
    "        out = self.layer2(out)\n",
    "        out = self.layer3(out)\n",
    "        out = self.layer4(out)\n",
    "        out = F.avg_pool2d(out, 4)\n",
    "        out = out.view(out.size(0), -1)\n",
    "        out = self.linear(out)\n",
    "        return out"
   ]
  },
  {
   "cell_type": "code",
   "execution_count": 70,
   "metadata": {},
   "outputs": [],
   "source": [
    "def ResNet18():\n",
    "    return ResNet(BasicBlock, [2, 2, 2, 2])"
   ]
  },
  {
   "cell_type": "code",
   "execution_count": 71,
   "metadata": {},
   "outputs": [
    {
     "data": {
      "text/plain": [
       "'cuda'"
      ]
     },
     "execution_count": 71,
     "metadata": {},
     "output_type": "execute_result"
    }
   ],
   "source": [
    "device = 'cuda' if torch.cuda.is_available() else 'cpu'\n",
    "best_acc = 0  # best test accuracy\n",
    "start_epoch = 0  # start from epoch 0 or last checkpoint epoch\n",
    "device"
   ]
  },
  {
   "cell_type": "markdown",
   "metadata": {},
   "source": [
    "## Data Processing"
   ]
  },
  {
   "cell_type": "code",
   "execution_count": 72,
   "metadata": {},
   "outputs": [
    {
     "name": "stdout",
     "output_type": "stream",
     "text": [
      "==> Preparing data..\n"
     ]
    }
   ],
   "source": [
    "# Data\n",
    "print('==> Preparing data..')\n",
    "transform_train = transforms.Compose([\n",
    "    transforms.RandomCrop(32, padding=4),\n",
    "    transforms.RandomHorizontalFlip(),\n",
    "    transforms.ToTensor(),\n",
    "    transforms.Normalize((0.4914, 0.4822, 0.4465), (0.2023, 0.1994, 0.2010)),\n",
    "])\n",
    "\n",
    "transform_test = transforms.Compose([\n",
    "    transforms.ToTensor(),\n",
    "    transforms.Normalize((0.4914, 0.4822, 0.4465), (0.2023, 0.1994, 0.2010)),\n",
    "])"
   ]
  },
  {
   "cell_type": "code",
   "execution_count": 73,
   "metadata": {},
   "outputs": [
    {
     "name": "stdout",
     "output_type": "stream",
     "text": [
      "Files already downloaded and verified\n",
      "Files already downloaded and verified\n",
      "45000\n",
      "5000\n"
     ]
    }
   ],
   "source": [
    "\n",
    "ROOT = '.data'\n",
    "trainset = torchvision.datasets.CIFAR10(\n",
    "    root=ROOT, train=True, download=True, transform=transform_train)\n",
    "# trainloader = torch.utils.data.DataLoader(\n",
    "#     trainset, batch_size=128, shuffle=True, num_workers=2)\n",
    "\n",
    "testset = torchvision.datasets.CIFAR10(\n",
    "    root=ROOT , train=False, download=True, transform=transform_test)\n",
    "# testloader = torch.utils.data.DataLoader(\n",
    "#     testset, batch_size=100, shuffle=False, num_workers=2)\n",
    "VALID_RATIO = 0.9\n",
    "\n",
    "n_train_examples = int(len(trainset) * VALID_RATIO)\n",
    "n_valid_examples = len(trainset) - n_train_examples\n",
    "print(n_train_examples)\n",
    "print(n_valid_examples)\n",
    "generator=torch.Generator().manual_seed(42)\n",
    "\n",
    "train_data, valid_data = torch.utils.data.random_split(trainset, \n",
    "                                           [n_train_examples, n_valid_examples], generator = generator)"
   ]
  },
  {
   "cell_type": "code",
   "execution_count": 74,
   "metadata": {},
   "outputs": [],
   "source": [
    "import copy\n",
    "valid_data = copy.deepcopy(valid_data)\n",
    "valid_data.dataset.transform = transform_test"
   ]
  },
  {
   "cell_type": "code",
   "execution_count": 75,
   "metadata": {},
   "outputs": [],
   "source": [
    "trainloader = torch.utils.data.DataLoader(train_data, batch_size = 256, shuffle = True, num_workers=2)\n",
    "validloader = torch.utils.data.DataLoader(valid_data, batch_size = 256, shuffle = True)\n",
    "testloader = torch.utils.data.DataLoader(testset, batch_size = 256, shuffle = False, num_workers=2)"
   ]
  },
  {
   "cell_type": "code",
   "execution_count": 76,
   "metadata": {},
   "outputs": [],
   "source": [
    "classes = ('plane', 'car', 'bird', 'cat', 'deer',\n",
    "           'dog', 'frog', 'horse', 'ship', 'truck')"
   ]
  },
  {
   "cell_type": "code",
   "execution_count": 77,
   "metadata": {},
   "outputs": [
    {
     "name": "stdout",
     "output_type": "stream",
     "text": [
      "==> Building model..\n"
     ]
    }
   ],
   "source": [
    "print('==> Building model..')\n",
    "net = ResNet18()\n",
    "net = net.to(device)\n",
    "if device == 'cuda':\n",
    "    net = torch.nn.DataParallel(net)\n",
    "    cudnn.benchmark = True\n"
   ]
  },
  {
   "cell_type": "markdown",
   "metadata": {},
   "source": [
    "## Counting Parameters"
   ]
  },
  {
   "cell_type": "code",
   "execution_count": 78,
   "metadata": {
    "scrolled": false
   },
   "outputs": [
    {
     "name": "stdout",
     "output_type": "stream",
     "text": [
      "Number of trainable parameters:  4667850\n"
     ]
    }
   ],
   "source": [
    "print(\"Number of trainable parameters: \",count_parameters(net))"
   ]
  },
  {
   "cell_type": "code",
   "execution_count": 79,
   "metadata": {},
   "outputs": [
    {
     "data": {
      "text/plain": [
       "DataParallel(\n",
       "  (module): ResNet(\n",
       "    (conv1): Conv2d(3, 64, kernel_size=(3, 3), stride=(1, 1), padding=(1, 1), bias=False)\n",
       "    (bn1): BatchNorm2d(64, eps=1e-05, momentum=0.1, affine=True, track_running_stats=True)\n",
       "    (layer1): Sequential(\n",
       "      (0): BasicBlock(\n",
       "        (conv1): Conv2d(64, 64, kernel_size=(3, 3), stride=(1, 1), padding=(1, 1), bias=False)\n",
       "        (bn1): BatchNorm2d(64, eps=1e-05, momentum=0.1, affine=True, track_running_stats=True)\n",
       "        (conv2): Conv2d(64, 64, kernel_size=(3, 3), stride=(1, 1), padding=(1, 1), bias=False)\n",
       "        (bn2): BatchNorm2d(64, eps=1e-05, momentum=0.1, affine=True, track_running_stats=True)\n",
       "        (shortcut): Sequential()\n",
       "      )\n",
       "      (1): BasicBlock(\n",
       "        (conv1): Conv2d(64, 64, kernel_size=(3, 3), stride=(1, 1), padding=(1, 1), bias=False)\n",
       "        (bn1): BatchNorm2d(64, eps=1e-05, momentum=0.1, affine=True, track_running_stats=True)\n",
       "        (conv2): Conv2d(64, 64, kernel_size=(3, 3), stride=(1, 1), padding=(1, 1), bias=False)\n",
       "        (bn2): BatchNorm2d(64, eps=1e-05, momentum=0.1, affine=True, track_running_stats=True)\n",
       "        (shortcut): Sequential()\n",
       "      )\n",
       "    )\n",
       "    (layer2): Sequential(\n",
       "      (0): BasicBlock(\n",
       "        (conv1): Conv2d(64, 64, kernel_size=(3, 3), stride=(2, 2), padding=(1, 1), bias=False)\n",
       "        (bn1): BatchNorm2d(64, eps=1e-05, momentum=0.1, affine=True, track_running_stats=True)\n",
       "        (conv2): Conv2d(64, 64, kernel_size=(3, 3), stride=(1, 1), padding=(1, 1), bias=False)\n",
       "        (bn2): BatchNorm2d(64, eps=1e-05, momentum=0.1, affine=True, track_running_stats=True)\n",
       "        (shortcut): Sequential(\n",
       "          (0): Conv2d(64, 64, kernel_size=(1, 1), stride=(2, 2), bias=False)\n",
       "          (1): BatchNorm2d(64, eps=1e-05, momentum=0.1, affine=True, track_running_stats=True)\n",
       "        )\n",
       "      )\n",
       "      (1): BasicBlock(\n",
       "        (conv1): Conv2d(64, 64, kernel_size=(3, 3), stride=(1, 1), padding=(1, 1), bias=False)\n",
       "        (bn1): BatchNorm2d(64, eps=1e-05, momentum=0.1, affine=True, track_running_stats=True)\n",
       "        (conv2): Conv2d(64, 64, kernel_size=(3, 3), stride=(1, 1), padding=(1, 1), bias=False)\n",
       "        (bn2): BatchNorm2d(64, eps=1e-05, momentum=0.1, affine=True, track_running_stats=True)\n",
       "        (shortcut): Sequential()\n",
       "      )\n",
       "    )\n",
       "    (layer3): Sequential(\n",
       "      (0): BasicBlock(\n",
       "        (conv1): Conv2d(64, 256, kernel_size=(3, 3), stride=(2, 2), padding=(1, 1), bias=False)\n",
       "        (bn1): BatchNorm2d(256, eps=1e-05, momentum=0.1, affine=True, track_running_stats=True)\n",
       "        (conv2): Conv2d(256, 256, kernel_size=(3, 3), stride=(1, 1), padding=(1, 1), bias=False)\n",
       "        (bn2): BatchNorm2d(256, eps=1e-05, momentum=0.1, affine=True, track_running_stats=True)\n",
       "        (shortcut): Sequential(\n",
       "          (0): Conv2d(64, 256, kernel_size=(1, 1), stride=(2, 2), bias=False)\n",
       "          (1): BatchNorm2d(256, eps=1e-05, momentum=0.1, affine=True, track_running_stats=True)\n",
       "        )\n",
       "      )\n",
       "      (1): BasicBlock(\n",
       "        (conv1): Conv2d(256, 256, kernel_size=(3, 3), stride=(1, 1), padding=(1, 1), bias=False)\n",
       "        (bn1): BatchNorm2d(256, eps=1e-05, momentum=0.1, affine=True, track_running_stats=True)\n",
       "        (conv2): Conv2d(256, 256, kernel_size=(3, 3), stride=(1, 1), padding=(1, 1), bias=False)\n",
       "        (bn2): BatchNorm2d(256, eps=1e-05, momentum=0.1, affine=True, track_running_stats=True)\n",
       "        (shortcut): Sequential()\n",
       "      )\n",
       "    )\n",
       "    (layer4): Sequential(\n",
       "      (0): BasicBlock(\n",
       "        (conv1): Conv2d(256, 256, kernel_size=(3, 3), stride=(2, 2), padding=(1, 1), bias=False)\n",
       "        (bn1): BatchNorm2d(256, eps=1e-05, momentum=0.1, affine=True, track_running_stats=True)\n",
       "        (conv2): Conv2d(256, 256, kernel_size=(3, 3), stride=(1, 1), padding=(1, 1), bias=False)\n",
       "        (bn2): BatchNorm2d(256, eps=1e-05, momentum=0.1, affine=True, track_running_stats=True)\n",
       "        (shortcut): Sequential(\n",
       "          (0): Conv2d(256, 256, kernel_size=(1, 1), stride=(2, 2), bias=False)\n",
       "          (1): BatchNorm2d(256, eps=1e-05, momentum=0.1, affine=True, track_running_stats=True)\n",
       "        )\n",
       "      )\n",
       "      (1): BasicBlock(\n",
       "        (conv1): Conv2d(256, 256, kernel_size=(3, 3), stride=(1, 1), padding=(1, 1), bias=False)\n",
       "        (bn1): BatchNorm2d(256, eps=1e-05, momentum=0.1, affine=True, track_running_stats=True)\n",
       "        (conv2): Conv2d(256, 256, kernel_size=(3, 3), stride=(1, 1), padding=(1, 1), bias=False)\n",
       "        (bn2): BatchNorm2d(256, eps=1e-05, momentum=0.1, affine=True, track_running_stats=True)\n",
       "        (shortcut): Sequential()\n",
       "      )\n",
       "    )\n",
       "    (linear): Linear(in_features=256, out_features=10, bias=True)\n",
       "  )\n",
       ")"
      ]
     },
     "execution_count": 79,
     "metadata": {},
     "output_type": "execute_result"
    }
   ],
   "source": [
    "net"
   ]
  },
  {
   "cell_type": "code",
   "execution_count": 80,
   "metadata": {},
   "outputs": [],
   "source": [
    "lr = 0.001"
   ]
  },
  {
   "cell_type": "code",
   "execution_count": 81,
   "metadata": {},
   "outputs": [],
   "source": [
    "criterion = nn.CrossEntropyLoss()\n",
    "criterion = criterion.to(device)\n",
    "optimizer = optim.SGD(net.parameters(), lr=lr,momentum=0.9, weight_decay=5e-4)\n",
    "# optimizer = optim.Adam(net.parameters(), lr=lr)\n",
    "scheduler = torch.optim.lr_scheduler.CosineAnnealingLR(optimizer, T_max=200)"
   ]
  },
  {
   "cell_type": "code",
   "execution_count": 82,
   "metadata": {},
   "outputs": [],
   "source": [
    "def calculate_accuracy(y_pred, y):\n",
    "    top_pred = y_pred.argmax(1, keepdim = True)\n",
    "    correct = top_pred.eq(y.view_as(top_pred)).sum()\n",
    "    acc = correct.float() / y.shape[0]\n",
    "    return acc"
   ]
  },
  {
   "cell_type": "code",
   "execution_count": 83,
   "metadata": {},
   "outputs": [],
   "source": [
    "def train(net, iterator, optimizer, criterion, device):\n",
    "    epoch_loss = 0\n",
    "    epoch_acc = 0\n",
    "    net.train()\n",
    "    for (inputs, y) in iterator:\n",
    "        inputs = inputs.to(device)\n",
    "        y = y.to(device)\n",
    "        optimizer.zero_grad()\n",
    "        \n",
    "        y_pred = net(inputs)\n",
    "        loss = criterion(y_pred, y)\n",
    "        acc = calculate_accuracy(y_pred, y)\n",
    "        loss.backward()\n",
    "        optimizer.step()\n",
    "        epoch_loss += loss.item()\n",
    "        epoch_acc += acc.item()\n",
    "        \n",
    "    return epoch_loss / len(iterator), epoch_acc / len(iterator)"
   ]
  },
  {
   "cell_type": "code",
   "execution_count": 84,
   "metadata": {},
   "outputs": [],
   "source": [
    "def evaluate(net, iterator, criterion, device):\n",
    "    epoch_loss = 0\n",
    "    epoch_acc = 0\n",
    "    net.eval()\n",
    "    with torch.no_grad():\n",
    "        for (x, y) in iterator:\n",
    "            x = x.to(device)\n",
    "            y = y.to(device)\n",
    "            y_pred = net(x)\n",
    "            loss = criterion(y_pred, y)\n",
    "            acc = calculate_accuracy(y_pred, y)\n",
    "            epoch_loss += loss.item()\n",
    "            epoch_acc += acc.item()\n",
    "    return epoch_loss / len(iterator), epoch_acc / len(iterator)"
   ]
  },
  {
   "cell_type": "markdown",
   "metadata": {},
   "source": [
    "## Model 1 - 40 epochs, SGD optimizer, lr = 0.001"
   ]
  },
  {
   "cell_type": "code",
   "execution_count": 26,
   "metadata": {},
   "outputs": [
    {
     "name": "stdout",
     "output_type": "stream",
     "text": [
      "Epoch 0\n",
      "Train loss & accuracy 1.0656119585037231 0.6160768819126216\n",
      "Validation loss & accuracy 1.0749781101942062 0.6272863060235977\n",
      "Epoch 1\n",
      "Train loss & accuracy 0.9809931848536838 0.6493723365393552\n",
      "Validation loss & accuracy 0.9610892236232758 0.6454848349094391\n",
      "Epoch 2\n",
      "Train loss & accuracy 0.9094582704657858 0.6752112924375318\n",
      "Validation loss & accuracy 0.8818873018026352 0.6898667275905609\n",
      "Epoch 3\n",
      "Train loss & accuracy 0.8495180816812948 0.6980406604707241\n",
      "Validation loss & accuracy 0.9013927757740021 0.6931755512952804\n",
      "Epoch 4\n",
      "Train loss & accuracy 0.7938464666632089 0.7159570309926163\n",
      "Validation loss & accuracy 0.7730545490980149 0.7306640625\n",
      "Epoch 5\n",
      "Train loss & accuracy 0.7486151595684615 0.7361123934388161\n",
      "Validation loss & accuracy 0.7892149269580842 0.7177849262952805\n",
      "Epoch 6\n",
      "Train loss & accuracy 0.7055618105964228 0.7521812854842707\n",
      "Validation loss & accuracy 0.7304593294858932 0.7432100176811218\n",
      "Epoch 7\n",
      "Train loss & accuracy 0.6665815355425532 0.7647505324672569\n",
      "Validation loss & accuracy 0.7302380859851837 0.7529181987047195\n",
      "Epoch 8\n",
      "Train loss & accuracy 0.6287035369737581 0.7793749997561629\n",
      "Validation loss & accuracy 0.6572835505008697 0.7683823525905609\n",
      "Epoch 9\n",
      "Train loss & accuracy 0.603803409432823 0.7882253195751797\n",
      "Validation loss & accuracy 0.724585571885109 0.7540785849094391\n",
      "Epoch 10\n",
      "Train loss & accuracy 0.579560558904301 0.7978098365393552\n",
      "Validation loss & accuracy 0.6957255959510803 0.7621783077716827\n",
      "Epoch 11\n",
      "Train loss & accuracy 0.5505332548848607 0.8090518465773626\n",
      "Validation loss & accuracy 0.6452538534998894 0.7848230689764023\n",
      "Epoch 12\n",
      "Train loss & accuracy 0.5254903476346623 0.8170569955625318\n",
      "Validation loss & accuracy 0.5961415737867355 0.7928308814764022\n",
      "Epoch 13\n",
      "Train loss & accuracy 0.5078844275664199 0.8225967684252695\n",
      "Validation loss & accuracy 0.6293403267860412 0.7839269310235977\n",
      "Epoch 14\n",
      "Train loss & accuracy 0.4873880527236245 0.8303355821831659\n",
      "Validation loss & accuracy 0.6021641865372658 0.7885799646377564\n",
      "Epoch 15\n",
      "Train loss & accuracy 0.4661889657039534 0.8379563208330761\n",
      "Validation loss & accuracy 0.6025868460536004 0.7921989887952805\n",
      "Epoch 16\n",
      "Train loss & accuracy 0.44613906876607373 0.8436390269886364\n",
      "Validation loss & accuracy 0.5781790837645531 0.7985753685235977\n",
      "Epoch 17\n",
      "Train loss & accuracy 0.4380354498597709 0.847552379085259\n",
      "Validation loss & accuracy 0.6477691501379013 0.7897633284330368\n",
      "Epoch 18\n",
      "Train loss & accuracy 0.42518304610116914 0.8524547229436311\n",
      "Validation loss & accuracy 0.5810360610485077 0.8030216008424759\n",
      "Epoch 19\n",
      "Train loss & accuracy 0.40717041644860397 0.8587375709956343\n",
      "Validation loss & accuracy 0.512688335776329 0.8210592836141586\n",
      "Epoch 20\n",
      "Train loss & accuracy 0.3960700328038497 0.8632563918151639\n",
      "Validation loss & accuracy 0.5688163354992867 0.8122931987047195\n",
      "Epoch 21\n",
      "Train loss & accuracy 0.3785991052334959 0.8687153763391755\n",
      "Validation loss & accuracy 0.5563643619418144 0.8136374086141587\n",
      "Epoch 22\n",
      "Train loss & accuracy 0.36634102141992614 0.8727423650297251\n",
      "Validation loss & accuracy 0.5365412876009941 0.8232536762952805\n",
      "Epoch 23\n",
      "Train loss & accuracy 0.3555224900218574 0.8758309659632769\n",
      "Validation loss & accuracy 0.559080395102501 0.8135684758424759\n",
      "Epoch 24\n",
      "Train loss & accuracy 0.34504974142394285 0.8796058236197992\n",
      "Validation loss & accuracy 0.504809045791626 0.8303423702716828\n",
      "Epoch 25\n",
      "Train loss & accuracy 0.3328886866061525 0.8839879259467125\n",
      "Validation loss & accuracy 0.5463772207498551 0.8233800560235978\n",
      "Epoch 26\n",
      "Train loss & accuracy 0.3199155958877368 0.8884934302080761\n",
      "Validation loss & accuracy 0.5435065269470215 0.8204273909330368\n",
      "Epoch 27\n",
      "Train loss & accuracy 0.3146840705620972 0.8906329900703647\n",
      "Validation loss & accuracy 0.5878143727779388 0.8159007340669632\n",
      "Epoch 28\n",
      "Train loss & accuracy 0.30460936068133876 0.8939337713474577\n",
      "Validation loss & accuracy 0.5111632287502289 0.831640625\n",
      "Epoch 29\n",
      "Train loss & accuracy 0.2931246059015393 0.8984721235253594\n",
      "Validation loss & accuracy 0.4825560599565506 0.8413258284330368\n",
      "Epoch 30\n",
      "Train loss & accuracy 0.2789561949162321 0.9027112925594504\n",
      "Validation loss & accuracy 0.45530335158109664 0.852320772409439\n",
      "Epoch 31\n",
      "Train loss & accuracy 0.27422837574373593 0.9042959870262579\n",
      "Validation loss & accuracy 0.45341046899557114 0.8514361202716827\n",
      "Epoch 32\n",
      "Train loss & accuracy 0.2722275715151971 0.904549893330444\n",
      "Validation loss & accuracy 0.46127949357032777 0.8497242659330368\n",
      "Epoch 33\n",
      "Train loss & accuracy 0.2569992658258839 0.910916192965074\n",
      "Validation loss & accuracy 0.47691862732172013 0.8502642452716828\n",
      "Epoch 34\n",
      "Train loss & accuracy 0.2527343502098864 0.9113441048697992\n",
      "Validation loss & accuracy 0.5438729986548424 0.8370749086141587\n",
      "Epoch 35\n",
      "Train loss & accuracy 0.24382268374955113 0.9151038706979968\n",
      "Validation loss & accuracy 0.5071585342288017 0.8452895224094391\n",
      "Epoch 36\n",
      "Train loss & accuracy 0.24294954995540055 0.9152636717666279\n",
      "Validation loss & accuracy 0.4535984769463539 0.8580767452716828\n",
      "Epoch 37\n",
      "Train loss & accuracy 0.23641743705692617 0.9177592329003594\n",
      "Validation loss & accuracy 0.45399030148983 0.8603515625\n",
      "Epoch 38\n",
      "Train loss & accuracy 0.2206087222492153 0.9233735793016173\n",
      "Validation loss & accuracy 0.44573011100292204 0.8577091008424759\n",
      "Epoch 39\n",
      "Train loss & accuracy 0.21676407199860973 0.9237535511228171\n",
      "Validation loss & accuracy 0.4432609647512436 0.8577091008424759\n"
     ]
    }
   ],
   "source": [
    "EPOCHS = 40\n",
    "train_loss_history = []\n",
    "val_loss_history = []\n",
    "train_accuracies = []\n",
    "val_accuracies = []\n",
    "\n",
    "for epoch in range(EPOCHS):\n",
    "  train_epoch_loss , train_epoch_acc = train(net, trainloader, optimizer, criterion, device)\n",
    "  val_epoch_loss , val_epoch_acc = evaluate(net, validloader, criterion, device)\n",
    "\n",
    "  print(\"Epoch\", epoch)\n",
    "  print(\"Train loss & accuracy\", train_epoch_loss , train_epoch_acc)\n",
    "  train_loss_history.append(train_epoch_loss)\n",
    "  train_accuracies.append(train_epoch_acc)\n",
    "\n",
    "  print(\"Validation loss & accuracy\", val_epoch_loss , val_epoch_acc)\n",
    "  val_loss_history.append(val_epoch_loss)\n",
    "  val_accuracies.append(val_epoch_acc)\n",
    "\n",
    "PATH = './saved_models/planes2_4.6M_sgd.pt'\n",
    "torch.save(net, PATH)"
   ]
  },
  {
   "cell_type": "code",
   "execution_count": 27,
   "metadata": {},
   "outputs": [
    {
     "data": {
      "text/plain": [
       "<matplotlib.legend.Legend at 0x15490d0edbe0>"
      ]
     },
     "execution_count": 27,
     "metadata": {},
     "output_type": "execute_result"
    },
    {
     "data": {
      "image/png": "[encoded data removed]",
      "text/plain": [
       "<Figure size 432x288 with 1 Axes>"
      ]
     },
     "metadata": {
      "needs_background": "light"
     },
     "output_type": "display_data"
    }
   ],
   "source": [
    "# loss curves\n",
    "# lr = 0.001, SGD, 40 epochs, 64-64-256-256, no MaxPool, 4.6M parameters\n",
    "plt.plot(range(40),train_loss_history,'-',linewidth=3,label='Train error')\n",
    "plt.plot(range(40),val_loss_history,'-',linewidth=3,label='Test error')\n",
    "plt.xlabel('epoch')\n",
    "plt.ylabel('loss')\n",
    "plt.grid(True)\n",
    "plt.legend()"
   ]
  },
  {
   "cell_type": "code",
   "execution_count": 43,
   "metadata": {},
   "outputs": [
    {
     "data": {
      "text/plain": [
       "<matplotlib.legend.Legend at 0x15490ca1f1f0>"
      ]
     },
     "execution_count": 43,
     "metadata": {},
     "output_type": "execute_result"
    },
    {
     "data": {
      "image/png": "[encoded data removed]",
      "text/plain": [
       "<Figure size 432x288 with 1 Axes>"
      ]
     },
     "metadata": {
      "needs_background": "light"
     },
     "output_type": "display_data"
    }
   ],
   "source": [
    "net = torch.load('./saved_models/planes2_4.6M_sgd.pt')\n",
    "\n",
    "# accuracy curves\n",
    "# lr = 0.001, SGD, 40 epochs, 64-64-256-256, no MaxPool,4.6M parameters\n",
    "\n",
    "plt.plot(range(40), train_accuracies,'-', linewidth=3, label='Train accuracy')\n",
    "plt.plot(range(40), val_accuracies,'-', linewidth=3, label='Validation accuracy')\n",
    "\n",
    "plt.xlabel('Epoch')\n",
    "plt.ylabel('Accuracy')\n",
    "plt.grid()\n",
    "plt.legend()"
   ]
  },
  {
   "cell_type": "code",
   "execution_count": 44,
   "metadata": {},
   "outputs": [
    {
     "name": "stdout",
     "output_type": "stream",
     "text": [
      "0.4674379713833332\n",
      "0.85517578125\n"
     ]
    }
   ],
   "source": [
    "test_loss_epoch, test_acc = evaluate(net, testloader,criterion, device)\n",
    "print(test_loss_epoch)\n",
    "print(test_acc)"
   ]
  },
  {
   "cell_type": "markdown",
   "metadata": {},
   "source": [
    "## Model 2 - 40 epochs, Adam optimizer, lr = 0.001"
   ]
  },
  {
   "cell_type": "code",
   "execution_count": 39,
   "metadata": {},
   "outputs": [
    {
     "name": "stdout",
     "output_type": "stream",
     "text": [
      "Epoch 0\n",
      "Train loss & accuracy 1.849104453894225 0.3142844458872622\n",
      "Validation loss & accuracy 1.5718302607536316 0.42028952240943906\n",
      "Epoch 1\n",
      "Train loss & accuracy 1.4593033011664043 0.4575106533752246\n",
      "Validation loss & accuracy 1.4673309743404388 0.46796875\n",
      "Epoch 2\n",
      "Train loss & accuracy 1.2784429429606958 0.5341974432495508\n",
      "Validation loss & accuracy 1.282251787185669 0.5366613060235977\n",
      "Epoch 3\n",
      "Train loss & accuracy 1.1364775570956143 0.5871963778680022\n",
      "Validation loss & accuracy 1.1022270798683167 0.606227022409439\n",
      "Epoch 4\n",
      "Train loss & accuracy 1.038836700672453 0.6270276988771829\n",
      "Validation loss & accuracy 1.0200554013252259 0.6358226090669632\n",
      "Epoch 5\n",
      "Train loss & accuracy 0.9528310038149357 0.6565243252976374\n",
      "Validation loss & accuracy 0.9353721261024475 0.6675666362047196\n",
      "Epoch 6\n",
      "Train loss & accuracy 0.8882439783350988 0.6829580966044556\n",
      "Validation loss & accuracy 0.8987284272909164 0.6838579952716828\n",
      "Epoch 7\n",
      "Train loss & accuracy 0.8338449986820872 0.7017968747426163\n",
      "Validation loss & accuracy 0.8487683326005936 0.6977366715669632\n",
      "Epoch 8\n",
      "Train loss & accuracy 0.7799467085437342 0.7231809303841807\n",
      "Validation loss & accuracy 0.8036207646131516 0.7177045047283173\n",
      "Epoch 9\n",
      "Train loss & accuracy 0.7390703643587503 0.7385165125808932\n",
      "Validation loss & accuracy 0.8528212577104568 0.6996208637952804\n",
      "Epoch 10\n",
      "Train loss & accuracy 0.6969816136089239 0.7532341974702749\n",
      "Validation loss & accuracy 0.8124230444431305 0.712672334909439\n",
      "Epoch 11\n",
      "Train loss & accuracy 0.6650536392222751 0.7667862214148045\n",
      "Validation loss & accuracy 0.7026760816574097 0.75\n",
      "Epoch 12\n",
      "Train loss & accuracy 0.624640570784157 0.7805104756897147\n",
      "Validation loss & accuracy 0.7803907364606857 0.7331341922283172\n",
      "Epoch 13\n",
      "Train loss & accuracy 0.5990764292126353 0.7886807525699789\n",
      "Validation loss & accuracy 0.7151688307523727 0.7457146137952805\n",
      "Epoch 14\n",
      "Train loss & accuracy 0.5737221332436259 0.7997203479436311\n",
      "Validation loss & accuracy 0.617491465806961 0.7812614887952805\n",
      "Epoch 15\n",
      "Train loss & accuracy 0.5430476855147969 0.8094611150974577\n",
      "Validation loss & accuracy 0.6255634725093842 0.7808249086141587\n",
      "Epoch 16\n",
      "Train loss & accuracy 0.518373535268686 0.8168554685332559\n",
      "Validation loss & accuracy 0.6245355784893036 0.7812040448188782\n",
      "Epoch 17\n",
      "Train loss & accuracy 0.5059283993799578 0.8232084516097199\n",
      "Validation loss & accuracy 0.6286037147045136 0.7880629599094391\n",
      "Epoch 18\n",
      "Train loss & accuracy 0.4831956528465856 0.8329199217259884\n",
      "Validation loss & accuracy 0.573928028345108 0.8006663590669632\n",
      "Epoch 19\n",
      "Train loss & accuracy 0.4637130986560475 0.8383806818588213\n",
      "Validation loss & accuracy 0.5640237912535667 0.8022518396377564\n",
      "Epoch 20\n",
      "Train loss & accuracy 0.44962600161406124 0.843655894764445\n",
      "Validation loss & accuracy 0.5684535697102546 0.8029871314764023\n",
      "Epoch 21\n",
      "Train loss & accuracy 0.4284122366119515 0.8514710580083457\n",
      "Validation loss & accuracy 0.6057337313890457 0.8069278508424759\n",
      "Epoch 22\n",
      "Train loss & accuracy 0.41956636851484125 0.8551802201704546\n",
      "Validation loss & accuracy 0.5925295293331146 0.8026424646377563\n",
      "Epoch 23\n",
      "Train loss & accuracy 0.39711037193509663 0.8624254261905496\n",
      "Validation loss & accuracy 0.5216724142432213 0.8281135112047195\n",
      "Epoch 24\n",
      "Train loss & accuracy 0.38759004477072845 0.8658407313579862\n",
      "Validation loss & accuracy 0.5788908943533897 0.8034122258424758\n",
      "Epoch 25\n",
      "Train loss & accuracy 0.3745273072272539 0.8689479756761681\n",
      "Validation loss & accuracy 0.4918022394180298 0.8365234375\n",
      "Epoch 26\n",
      "Train loss & accuracy 0.3683012974533168 0.8721466619860042\n",
      "Validation loss & accuracy 0.5626897573471069 0.8163488060235977\n",
      "Epoch 27\n",
      "Train loss & accuracy 0.3529518653892658 0.8771874999458139\n",
      "Validation loss & accuracy 0.49785768389701845 0.8330882340669632\n",
      "Epoch 28\n",
      "Train loss & accuracy 0.33897999894212594 0.8820862925865434\n",
      "Validation loss & accuracy 0.5345084473490715 0.8255284935235977\n",
      "Epoch 29\n",
      "Train loss & accuracy 0.33156639125875453 0.8835138492286205\n",
      "Validation loss & accuracy 0.4795259341597557 0.8429113060235978\n",
      "Epoch 30\n",
      "Train loss & accuracy 0.31747944382104004 0.8892515979029916\n",
      "Validation loss & accuracy 0.4820023596286774 0.8433708637952805\n",
      "Epoch 31\n",
      "Train loss & accuracy 0.30526442182334984 0.8943785510279916\n",
      "Validation loss & accuracy 0.531424967944622 0.8374425560235977\n",
      "Epoch 32\n",
      "Train loss & accuracy 0.29578554147685115 0.8964257812635466\n",
      "Validation loss & accuracy 0.5347294554114341 0.8335363060235977\n",
      "Epoch 33\n",
      "Train loss & accuracy 0.28517404427243903 0.8997558592395349\n",
      "Validation loss & accuracy 0.519267375767231 0.8347771137952804\n",
      "Epoch 34\n",
      "Train loss & accuracy 0.2788236430761489 0.9033602625131607\n",
      "Validation loss & accuracy 0.5182796522974968 0.8352022051811219\n",
      "Epoch 35\n",
      "Train loss & accuracy 0.27242535776035354 0.9058913351459936\n",
      "Validation loss & accuracy 0.5686985373497009 0.8243795961141587\n",
      "Epoch 36\n",
      "Train loss & accuracy 0.2605347744273869 0.9092134230516173\n",
      "Validation loss & accuracy 0.5365988865494729 0.8320197612047195\n",
      "Epoch 37\n",
      "Train loss & accuracy 0.25659935345703905 0.9109232954003594\n",
      "Validation loss & accuracy 0.49010463804006577 0.8437614887952805\n",
      "Epoch 38\n",
      "Train loss & accuracy 0.24776260597123342 0.9142444956709038\n",
      "Validation loss & accuracy 0.4648109316825867 0.8511374086141587\n",
      "Epoch 39\n",
      "Train loss & accuracy 0.2360229574313218 0.9177352626892653\n",
      "Validation loss & accuracy 0.47556542605161667 0.8562959551811218\n"
     ]
    }
   ],
   "source": [
    "EPOCHS = 40\n",
    "train_loss_history = []\n",
    "val_loss_history = []\n",
    "train_accuracies = []\n",
    "val_accuracies = []\n",
    "for epoch in range(EPOCHS):\n",
    "  train_epoch_loss , train_epoch_acc = train(net, trainloader, optimizer, criterion, device)\n",
    "  val_epoch_loss , val_epoch_acc = evaluate(net, validloader, criterion, device)\n",
    "\n",
    "  print(\"Epoch\", epoch)\n",
    "  print(\"Train loss & accuracy\", train_epoch_loss , train_epoch_acc)\n",
    "  train_loss_history.append(train_epoch_loss)\n",
    "  train_accuracies.append(train_epoch_acc)\n",
    "\n",
    "  print(\"Validation loss & accuracy\", val_epoch_loss , val_epoch_acc)\n",
    "  val_loss_history.append(val_epoch_loss)\n",
    "  val_accuracies.append(val_epoch_acc)\n",
    "\n",
    "PATH = './saved_models/planes2_4.6M_Adam40.pt'\n",
    "torch.save(net, PATH)"
   ]
  },
  {
   "cell_type": "code",
   "execution_count": 40,
   "metadata": {},
   "outputs": [
    {
     "data": {
      "text/plain": [
       "<matplotlib.legend.Legend at 0x15490ca1a5e0>"
      ]
     },
     "execution_count": 40,
     "metadata": {},
     "output_type": "execute_result"
    },
    {
     "data": {
      "image/png": "[encoded data removed]",
      "text/plain": [
       "<Figure size 432x288 with 1 Axes>"
      ]
     },
     "metadata": {
      "needs_background": "light"
     },
     "output_type": "display_data"
    }
   ],
   "source": [
    "# lr = 0.001, Adam, 40 epochs, 64-64-256-256, no MaxPool, 4.6M parameters\n",
    "plt.plot(range(40),train_loss_history,'-',linewidth=3,label='Train error')\n",
    "plt.plot(range(40),val_loss_history,'-',linewidth=3,label='Val error')\n",
    "plt.xlabel('epoch')\n",
    "plt.ylabel('loss')\n",
    "plt.grid(True)\n",
    "plt.legend()"
   ]
  },
  {
   "cell_type": "code",
   "execution_count": 41,
   "metadata": {},
   "outputs": [
    {
     "data": {
      "text/plain": [
       "<matplotlib.legend.Legend at 0x15490c58aaf0>"
      ]
     },
     "execution_count": 41,
     "metadata": {},
     "output_type": "execute_result"
    },
    {
     "data": {
      "image/png": "[encoded data removed]",
      "text/plain": [
       "<Figure size 432x288 with 1 Axes>"
      ]
     },
     "metadata": {
      "needs_background": "light"
     },
     "output_type": "display_data"
    }
   ],
   "source": [
    "# lr = 0.001, Adam, 40 epochs, 64-64-256-256, no MaxPool, 4.6M parameters\n",
    "\n",
    "plt.plot(range(40), train_accuracies,'-', linewidth=3, label='Train accuracy')\n",
    "plt.plot(range(40), val_accuracies,'-', linewidth=3, label='Validation accuracy')\n",
    "\n",
    "plt.xlabel('Epoch')\n",
    "plt.ylabel('Accuracy')\n",
    "plt.grid()\n",
    "plt.legend()"
   ]
  },
  {
   "cell_type": "code",
   "execution_count": 42,
   "metadata": {},
   "outputs": [
    {
     "name": "stdout",
     "output_type": "stream",
     "text": [
      "0.4901051126420498\n",
      "0.84619140625\n"
     ]
    }
   ],
   "source": [
    "test_loss_epoch, test_acc = evaluate(net, testloader,criterion, device)\n",
    "print(test_loss_epoch)\n",
    "print(test_acc)"
   ]
  },
  {
   "cell_type": "markdown",
   "metadata": {},
   "source": [
    "## Model 3 - 80 epochs, SGD optimizer, lr = 0.001"
   ]
  },
  {
   "cell_type": "code",
   "execution_count": 85,
   "metadata": {},
   "outputs": [
    {
     "name": "stdout",
     "output_type": "stream",
     "text": [
      "Epoch 0\n",
      "Train loss & accuracy 1.855218999765136 0.31381125697358087\n",
      "Validation loss & accuracy 1.5963660776615143 0.4154181987047195\n",
      "Epoch 1\n",
      "Train loss & accuracy 1.4729001738808372 0.4570765270089561\n",
      "Validation loss & accuracy 1.3631451070308684 0.5001608461141587\n",
      "Epoch 2\n",
      "Train loss & accuracy 1.2897527244958011 0.5290465199134566\n",
      "Validation loss & accuracy 1.2515796542167663 0.5553079038858414\n",
      "Epoch 3\n",
      "Train loss & accuracy 1.1550702134316617 0.5836674361066385\n",
      "Validation loss & accuracy 1.1738643229007721 0.5788717836141586\n",
      "Epoch 4\n",
      "Train loss & accuracy 1.0459233132952994 0.6246724074537103\n",
      "Validation loss & accuracy 1.0403485983610152 0.6211856633424759\n",
      "Epoch 5\n",
      "Train loss & accuracy 0.958590853959322 0.6559534801000898\n",
      "Validation loss & accuracy 1.1034198105335236 0.6129710465669632\n",
      "Epoch 6\n",
      "Train loss & accuracy 0.8867061453109438 0.6866796873509884\n",
      "Validation loss & accuracy 0.9925831168889999 0.6486902564764023\n",
      "Epoch 7\n",
      "Train loss & accuracy 0.8270228224044497 0.7068510295992548\n",
      "Validation loss & accuracy 0.9380175322294235 0.6717026650905609\n",
      "Epoch 8\n",
      "Train loss & accuracy 0.7751758792860941 0.7248259941962633\n",
      "Validation loss & accuracy 0.7934233844280243 0.7137637883424759\n",
      "Epoch 9\n",
      "Train loss & accuracy 0.7247549295425415 0.7437917258251797\n",
      "Validation loss & accuracy 0.7875844597816467 0.7309397965669632\n",
      "Epoch 10\n",
      "Train loss & accuracy 0.68208407509056 0.7593918676403436\n",
      "Validation loss & accuracy 0.6980730175971985 0.7554113060235977\n",
      "Epoch 11\n",
      "Train loss & accuracy 0.6435016305609182 0.7749538350511681\n",
      "Validation loss & accuracy 0.687026858329773 0.7646943926811218\n",
      "Epoch 12\n",
      "Train loss & accuracy 0.6135213388638063 0.7855095880275423\n",
      "Validation loss & accuracy 0.6708279579877854 0.7723920047283173\n",
      "Epoch 13\n",
      "Train loss & accuracy 0.5785139385949482 0.7993190694939006\n",
      "Validation loss & accuracy 0.6894378423690796 0.7677504599094391\n",
      "Epoch 14\n",
      "Train loss & accuracy 0.5542487156662074 0.8077121803706343\n",
      "Validation loss & accuracy 0.6303396582603454 0.7840303301811218\n",
      "Epoch 15\n",
      "Train loss & accuracy 0.5305399195375767 0.814584517004815\n",
      "Validation loss & accuracy 0.6247434377670288 0.7914866715669632\n",
      "Epoch 16\n",
      "Train loss & accuracy 0.5061950168826364 0.8230974785983562\n",
      "Validation loss & accuracy 0.5692514508962632 0.804296875\n",
      "Epoch 17\n",
      "Train loss & accuracy 0.48934146389365196 0.8303329189392653\n",
      "Validation loss & accuracy 0.632940548658371 0.7924977034330368\n",
      "Epoch 18\n",
      "Train loss & accuracy 0.4692609650506215 0.8385955254462633\n",
      "Validation loss & accuracy 0.590086019039154 0.8019875913858414\n",
      "Epoch 19\n",
      "Train loss & accuracy 0.45299145054410805 0.8433558236468922\n",
      "Validation loss & accuracy 0.529915289580822 0.8178538590669632\n",
      "Epoch 20\n",
      "Train loss & accuracy 0.43629226545718586 0.8498037995939905\n",
      "Validation loss & accuracy 0.5989123046398163 0.8003561586141587\n",
      "Epoch 21\n",
      "Train loss & accuracy 0.4192033899440007 0.8548171164637263\n",
      "Validation loss & accuracy 0.5294817686080933 0.8210133284330368\n",
      "Epoch 22\n",
      "Train loss & accuracy 0.4097960200160742 0.8589959161525423\n",
      "Validation loss & accuracy 0.5386342778801918 0.8208180159330368\n",
      "Epoch 23\n",
      "Train loss & accuracy 0.3961514117704196 0.8621218038553541\n",
      "Validation loss & accuracy 0.5100274756550789 0.8289407163858413\n",
      "Epoch 24\n",
      "Train loss & accuracy 0.3800999845632098 0.8660324927080761\n",
      "Validation loss & accuracy 0.4779279664158821 0.8362017452716828\n",
      "Epoch 25\n",
      "Train loss & accuracy 0.3697836394845085 0.8727299361066385\n",
      "Validation loss & accuracy 0.4727983668446541 0.8401539534330368\n",
      "Epoch 26\n",
      "Train loss & accuracy 0.35628862340341916 0.8756125708195296\n",
      "Validation loss & accuracy 0.5775389090180397 0.8174632340669632\n",
      "Epoch 27\n",
      "Train loss & accuracy 0.34196092814884405 0.8823916901918974\n",
      "Validation loss & accuracy 0.47379502952098845 0.8350988060235978\n",
      "Epoch 28\n",
      "Train loss & accuracy 0.33506193587725813 0.8832368606870825\n",
      "Validation loss & accuracy 0.5291743129491806 0.8271369487047195\n",
      "Epoch 29\n",
      "Train loss & accuracy 0.3220372072167017 0.8894584517587315\n",
      "Validation loss & accuracy 0.5287242397665978 0.8227136939764023\n",
      "Epoch 30\n",
      "Train loss & accuracy 0.31365498688749294 0.890742187472907\n",
      "Validation loss & accuracy 0.49388582557439803 0.8387982547283173\n",
      "Epoch 31\n",
      "Train loss & accuracy 0.30347050387750973 0.89454989338463\n",
      "Validation loss & accuracy 0.4442503243684769 0.8559857547283173\n",
      "Epoch 32\n",
      "Train loss & accuracy 0.29618346208537166 0.8982688208872621\n",
      "Validation loss & accuracy 0.46781872510910033 0.8432329952716827\n",
      "Epoch 33\n",
      "Train loss & accuracy 0.29155375859276816 0.8988361148671671\n",
      "Validation loss & accuracy 0.5974856033921242 0.8123621314764022\n",
      "Epoch 34\n",
      "Train loss & accuracy 0.2781363460658626 0.9025905538689006\n",
      "Validation loss & accuracy 0.5050637796521187 0.8399931073188782\n",
      "Epoch 35\n",
      "Train loss & accuracy 0.2694453750313683 0.9069726561958139\n",
      "Validation loss & accuracy 0.4744624122977257 0.8470013797283172\n",
      "Epoch 36\n",
      "Train loss & accuracy 0.2650614133612676 0.9094930751757189\n",
      "Validation loss & accuracy 0.5143374666571617 0.8430147051811219\n",
      "Epoch 37\n",
      "Train loss & accuracy 0.2521386493674733 0.9128080609847199\n",
      "Validation loss & accuracy 0.4567995324730873 0.8510225176811218\n",
      "Epoch 38\n",
      "Train loss & accuracy 0.2512385982342742 0.9128213778815486\n",
      "Validation loss & accuracy 0.49222067594528196 0.8497012883424759\n",
      "Epoch 39\n",
      "Train loss & accuracy 0.2420744342221455 0.9155894883654334\n",
      "Validation loss & accuracy 0.4301875218749046 0.8655330896377563\n",
      "Epoch 40\n",
      "Train loss & accuracy 0.23447139578109438 0.9179137071425264\n",
      "Validation loss & accuracy 0.5344579935073852 0.843531709909439\n",
      "Epoch 41\n",
      "Train loss & accuracy 0.22614187484776432 0.9217294034632769\n",
      "Validation loss & accuracy 0.6202714800834656 0.8125114887952805\n",
      "Epoch 42\n",
      "Train loss & accuracy 0.21519165960225192 0.9257510653273626\n",
      "Validation loss & accuracy 0.48501359224319457 0.8468405336141587\n",
      "Epoch 43\n",
      "Train loss & accuracy 0.2106750121509487 0.9264737215231765\n",
      "Validation loss & accuracy 0.442587211728096 0.8650390625\n",
      "Epoch 44\n",
      "Train loss & accuracy 0.20193000362170013 0.9303906248374418\n",
      "Validation loss & accuracy 0.457166588306427 0.8555606633424759\n",
      "Epoch 45\n",
      "Train loss & accuracy 0.20150337533347987 0.9296892756088213\n",
      "Validation loss & accuracy 0.47686900198459625 0.8533662676811218\n",
      "Epoch 46\n",
      "Train loss & accuracy 0.19252615464343267 0.9326127483086153\n",
      "Validation loss & accuracy 0.4731555446982384 0.8555376827716827\n",
      "Epoch 47\n",
      "Train loss & accuracy 0.18510454067621718 0.9350825639610941\n",
      "Validation loss & accuracy 0.44414312541484835 0.8652803301811218\n",
      "Epoch 48\n",
      "Train loss & accuracy 0.1830844866027209 0.9361443536525423\n",
      "Validation loss & accuracy 0.4672854200005531 0.8540441185235977\n",
      "Epoch 49\n",
      "Train loss & accuracy 0.17428253586827355 0.939226739785888\n",
      "Validation loss & accuracy 0.48682798743247985 0.8544117659330368\n",
      "Epoch 50\n",
      "Train loss & accuracy 0.1700359841978008 0.940054154870185\n",
      "Validation loss & accuracy 0.46335362941026687 0.8616613060235977\n",
      "Epoch 51\n",
      "Train loss & accuracy 0.16474618707698854 0.943598188798536\n",
      "Validation loss & accuracy 0.4367210254073143 0.8676700383424759\n",
      "Epoch 52\n",
      "Train loss & accuracy 0.1585840821604837 0.9445117187093605\n",
      "Validation loss & accuracy 0.4774756208062172 0.8567670047283172\n",
      "Epoch 53\n",
      "Train loss & accuracy 0.1517836254259402 0.9469247158955444\n",
      "Validation loss & accuracy 0.5757800981402397 0.8325942099094391\n",
      "Epoch 54\n",
      "Train loss & accuracy 0.14985895042561673 0.948109907521443\n",
      "Validation loss & accuracy 0.469115087389946 0.8603860288858414\n",
      "Epoch 55\n",
      "Train loss & accuracy 0.1479130759411915 0.9486718750135466\n",
      "Validation loss & accuracy 0.4747846156358719 0.8604204952716827\n",
      "Epoch 56\n",
      "Train loss & accuracy 0.13964812986722047 0.951677911660888\n",
      "Validation loss & accuracy 0.47480150908231733 0.8629595577716828\n",
      "Epoch 57\n",
      "Train loss & accuracy 0.13531809122386304 0.9535262784497305\n",
      "Validation loss & accuracy 0.488297575712204 0.8580997258424758\n",
      "Epoch 58\n",
      "Train loss & accuracy 0.13424972948533567 0.9527325992557135\n",
      "Validation loss & accuracy 0.4520909614861012 0.8683363974094391\n",
      "Epoch 59\n",
      "Train loss & accuracy 0.13393203042108903 0.9531099074943499\n",
      "Validation loss & accuracy 0.42882700860500333 0.8710363060235977\n",
      "Epoch 60\n",
      "Train loss & accuracy 0.12787231252613393 0.9556436433710835\n",
      "Validation loss & accuracy 0.4718776062130928 0.8657973349094391\n",
      "Epoch 61\n",
      "Train loss & accuracy 0.1194753879046237 0.9583194245668974\n",
      "Validation loss & accuracy 0.4887083888053894 0.8679227948188781\n",
      "Epoch 62\n",
      "Train loss & accuracy 0.12025579304265027 0.9569344815205444\n",
      "Validation loss & accuracy 0.5292367205023766 0.8639705896377563\n",
      "Epoch 63\n",
      "Train loss & accuracy 0.11616812604056163 0.9588263492015275\n",
      "Validation loss & accuracy 0.4863962665200233 0.8645909935235977\n",
      "Epoch 64\n",
      "Train loss & accuracy 0.1091762030581859 0.9620294743640856\n",
      "Validation loss & accuracy 0.48813702911138535 0.8658662676811218\n",
      "Epoch 65\n",
      "Train loss & accuracy 0.11085821542126889 0.9615154472941702\n",
      "Validation loss & accuracy 0.5152852579951286 0.8555606633424759\n",
      "Epoch 66\n",
      "Train loss & accuracy 0.10468632700345055 0.9642808948728171\n",
      "Validation loss & accuracy 0.6335433214902878 0.8403033077716827\n",
      "Epoch 67\n",
      "Train loss & accuracy 0.10310083807615394 0.9636337001892653\n",
      "Validation loss & accuracy 0.5941804960370064 0.8468175560235978\n",
      "Epoch 68\n",
      "Train loss & accuracy 0.09574095866727558 0.9680752838877115\n",
      "Validation loss & accuracy 0.4788677990436554 0.8720473349094391\n",
      "Epoch 69\n",
      "Train loss & accuracy 0.08945954468270595 0.9698410863903436\n",
      "Validation loss & accuracy 0.5106891348958016 0.865452665090561\n",
      "Epoch 70\n",
      "Train loss & accuracy 0.08957698939114132 0.9688556461848996\n",
      "Validation loss & accuracy 0.47469339370727537 0.8703699439764023\n",
      "Epoch 71\n",
      "Train loss & accuracy 0.08532043205658821 0.9702281603081659\n",
      "Validation loss & accuracy 0.4593291416764259 0.8771943926811219\n",
      "Epoch 72\n",
      "Train loss & accuracy 0.08566973341459577 0.9705646305598996\n",
      "Validation loss & accuracy 0.5058104544878006 0.8707261025905609\n",
      "Epoch 73\n",
      "Train loss & accuracy 0.08451237453317101 0.9702725495127115\n",
      "Validation loss & accuracy 0.4951236054301262 0.8664751827716828\n",
      "Epoch 74\n",
      "Train loss & accuracy 0.08407630997879262 0.9701802198859778\n",
      "Validation loss & accuracy 0.47911780774593354 0.87265625\n",
      "Epoch 75\n",
      "Train loss & accuracy 0.081133012723347 0.9722638492557135\n",
      "Validation loss & accuracy 0.4945018783211708 0.8728056073188781\n",
      "Epoch 76\n",
      "Train loss & accuracy 0.07508746318688447 0.974495738406073\n",
      "Validation loss & accuracy 0.4624844029545784 0.878125\n",
      "Epoch 77\n",
      "Train loss & accuracy 0.06791548167397692 0.977669566531073\n",
      "Validation loss & accuracy 0.5020422868430614 0.8736328125\n",
      "Epoch 78\n",
      "Train loss & accuracy 0.07254298695955765 0.9759641333737157\n",
      "Validation loss & accuracy 0.502970403432846 0.8782973349094391\n",
      "Epoch 79\n",
      "Train loss & accuracy 0.07179961351423779 0.9750665836036205\n",
      "Validation loss & accuracy 0.4688772700726986 0.875758272409439\n"
     ]
    }
   ],
   "source": [
    "EPOCHS = 80\n",
    "train_loss_history = []\n",
    "val_loss_history = []\n",
    "train_accuracies = []\n",
    "val_accuracies = []\n",
    "\n",
    "for epoch in range(EPOCHS):\n",
    "  train_epoch_loss , train_epoch_acc = train(net, trainloader, optimizer, criterion, device)\n",
    "  val_epoch_loss , val_epoch_acc = evaluate(net, validloader, criterion, device)\n",
    "\n",
    "  print(\"Epoch\", epoch)\n",
    "  print(\"Train loss & accuracy\", train_epoch_loss , train_epoch_acc)\n",
    "  train_loss_history.append(train_epoch_loss)\n",
    "  train_accuracies.append(train_epoch_acc)\n",
    "\n",
    "  print(\"Validation loss & accuracy\", val_epoch_loss , val_epoch_acc)\n",
    "  val_loss_history.append(val_epoch_loss)\n",
    "  val_accuracies.append(val_epoch_acc)\n",
    "\n",
    "PATH = './saved_models/planes_4.6M_Adam_80epochs.pt'\n",
    "torch.save(net, PATH)"
   ]
  },
  {
   "cell_type": "code",
   "execution_count": 86,
   "metadata": {},
   "outputs": [
    {
     "data": {
      "text/plain": [
       "<matplotlib.legend.Legend at 0x15490e3afe50>"
      ]
     },
     "execution_count": 86,
     "metadata": {},
     "output_type": "execute_result"
    },
    {
     "data": {
      "image/png": "[encoded data removed]",
      "text/plain": [
       "<Figure size 432x288 with 1 Axes>"
      ]
     },
     "metadata": {
      "needs_background": "light"
     },
     "output_type": "display_data"
    }
   ],
   "source": [
    "# lr = 0.001, sgd, 80 epochs, 64-64-256-256, no MaxPool, 4.6M parameters\n",
    "\n",
    "net = torch.load('./saved_models/planes_4.6M_Adam_80epochs.pt')\n",
    "\n",
    "plt.plot(range(80),train_loss_history,'-',linewidth=3,label='Train error')\n",
    "plt.plot(range(80),val_loss_history,'-',linewidth=3,label='Val error')\n",
    "plt.xlabel('epoch')\n",
    "plt.ylabel('loss')\n",
    "plt.grid(True)\n",
    "plt.legend()"
   ]
  },
  {
   "cell_type": "code",
   "execution_count": 87,
   "metadata": {},
   "outputs": [
    {
     "data": {
      "text/plain": [
       "<matplotlib.legend.Legend at 0x1548e6add970>"
      ]
     },
     "execution_count": 87,
     "metadata": {},
     "output_type": "execute_result"
    },
    {
     "data": {
      "image/png": "[encoded data removed]",
      "text/plain": [
       "<Figure size 432x288 with 1 Axes>"
      ]
     },
     "metadata": {
      "needs_background": "light"
     },
     "output_type": "display_data"
    }
   ],
   "source": [
    "# lr = 0.001, sgd, 80 epochs, 64-64-256-256, no MaxPool, 4.6M parameters\n",
    "\n",
    "plt.plot(range(80), train_accuracies,'-', linewidth=3, label='Train accuracy')\n",
    "plt.plot(range(80), val_accuracies,'-', linewidth=3, label='Validation accuracy')\n",
    "\n",
    "plt.xlabel('Epoch')\n",
    "plt.ylabel('Accuracy')\n",
    "plt.grid()\n",
    "plt.legend()"
   ]
  },
  {
   "cell_type": "code",
   "execution_count": 88,
   "metadata": {},
   "outputs": [
    {
     "name": "stdout",
     "output_type": "stream",
     "text": [
      "0.5084556207060814\n",
      "0.8759765625\n"
     ]
    }
   ],
   "source": [
    "test_loss_epoch, test_acc = evaluate(net, testloader,criterion, device)\n",
    "print(test_loss_epoch)\n",
    "print(test_acc)"
   ]
  },
  {
   "cell_type": "code",
   "execution_count": null,
   "metadata": {},
   "outputs": [],
   "source": []
  }
 ],
 "metadata": {
  "kernelspec": {
   "display_name": "Python 3",
   "language": "python",
   "name": "python3"
  },
  "toc-autonumbering": true,
  "toc-showcode": true
 },
 "nbformat": 4,
 "nbformat_minor": 5
}
