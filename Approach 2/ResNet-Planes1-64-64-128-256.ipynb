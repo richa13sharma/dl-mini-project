{
 "cells": [
  {
   "cell_type": "code",
   "execution_count": 23,
   "metadata": {},
   "outputs": [
    {
     "name": "stdout",
     "output_type": "stream",
     "text": [
      "Defaulting to user installation because normal site-packages is not writeable\n",
      "Requirement already satisfied: torch in /home/lk2719/.local/lib/python3.8/site-packages (1.13.0)\n",
      "Requirement already satisfied: nvidia-cudnn-cu11==8.5.0.96 in /home/lk2719/.local/lib/python3.8/site-packages (from torch) (8.5.0.96)\n",
      "Requirement already satisfied: nvidia-cuda-nvrtc-cu11==11.7.99 in /home/lk2719/.local/lib/python3.8/site-packages (from torch) (11.7.99)\n",
      "Requirement already satisfied: nvidia-cuda-runtime-cu11==11.7.99 in /home/lk2719/.local/lib/python3.8/site-packages (from torch) (11.7.99)\n",
      "Requirement already satisfied: nvidia-cublas-cu11==11.10.3.66 in /home/lk2719/.local/lib/python3.8/site-packages (from torch) (11.10.3.66)\n",
      "Requirement already satisfied: typing-extensions in /home/lk2719/.local/lib/python3.8/site-packages (from torch) (4.4.0)\n",
      "Requirement already satisfied: wheel in /share/apps/python/3.8.6/intel/lib/python3.8/site-packages (from nvidia-cuda-runtime-cu11==11.7.99->torch) (0.35.1)\n",
      "Requirement already satisfied: setuptools in /share/apps/python/3.8.6/intel/lib/python3.8/site-packages (from nvidia-cuda-runtime-cu11==11.7.99->torch) (49.2.1)\n",
      "\u001b[33mWARNING: You are using pip version 20.2.3; however, version 22.3.1 is available.\n",
      "You should consider upgrading via the '/share/apps/python/3.8.6/intel/bin/python -m pip install --upgrade pip' command.\u001b[0m\n",
      "Defaulting to user installation because normal site-packages is not writeable\n",
      "Requirement already satisfied: torchvision in /home/lk2719/.local/lib/python3.8/site-packages (0.14.0)\n",
      "Requirement already satisfied: pillow!=8.3.*,>=5.3.0 in /share/apps/python/3.8.6/intel/lib/python3.8/site-packages (from torchvision) (8.0.1)\n",
      "Requirement already satisfied: typing-extensions in /home/lk2719/.local/lib/python3.8/site-packages (from torchvision) (4.4.0)\n",
      "Requirement already satisfied: torch==1.13.0 in /home/lk2719/.local/lib/python3.8/site-packages (from torchvision) (1.13.0)\n",
      "Requirement already satisfied: requests in /share/apps/python/3.8.6/intel/lib/python3.8/site-packages (from torchvision) (2.24.0)\n",
      "Requirement already satisfied: numpy in /share/apps/python/3.8.6/intel/lib/python3.8/site-packages/numpy-1.19.2-py3.8-linux-x86_64.egg (from torchvision) (1.19.2)\n",
      "Requirement already satisfied: nvidia-cublas-cu11==11.10.3.66 in /home/lk2719/.local/lib/python3.8/site-packages (from torch==1.13.0->torchvision) (11.10.3.66)\n",
      "Requirement already satisfied: nvidia-cudnn-cu11==8.5.0.96 in /home/lk2719/.local/lib/python3.8/site-packages (from torch==1.13.0->torchvision) (8.5.0.96)\n",
      "Requirement already satisfied: nvidia-cuda-runtime-cu11==11.7.99 in /home/lk2719/.local/lib/python3.8/site-packages (from torch==1.13.0->torchvision) (11.7.99)\n",
      "Requirement already satisfied: nvidia-cuda-nvrtc-cu11==11.7.99 in /home/lk2719/.local/lib/python3.8/site-packages (from torch==1.13.0->torchvision) (11.7.99)\n",
      "Requirement already satisfied: idna<3,>=2.5 in /share/apps/python/3.8.6/intel/lib/python3.8/site-packages (from requests->torchvision) (2.10)\n",
      "Requirement already satisfied: chardet<4,>=3.0.2 in /share/apps/python/3.8.6/intel/lib/python3.8/site-packages (from requests->torchvision) (3.0.4)\n",
      "Requirement already satisfied: certifi>=2017.4.17 in /share/apps/python/3.8.6/intel/lib/python3.8/site-packages (from requests->torchvision) (2020.6.20)\n",
      "Requirement already satisfied: urllib3!=1.25.0,!=1.25.1,<1.26,>=1.21.1 in /share/apps/python/3.8.6/intel/lib/python3.8/site-packages (from requests->torchvision) (1.25.10)\n",
      "Requirement already satisfied: setuptools in /share/apps/python/3.8.6/intel/lib/python3.8/site-packages (from nvidia-cublas-cu11==11.10.3.66->torch==1.13.0->torchvision) (49.2.1)\n",
      "Requirement already satisfied: wheel in /share/apps/python/3.8.6/intel/lib/python3.8/site-packages (from nvidia-cublas-cu11==11.10.3.66->torch==1.13.0->torchvision) (0.35.1)\n",
      "\u001b[33mWARNING: You are using pip version 20.2.3; however, version 22.3.1 is available.\n",
      "You should consider upgrading via the '/share/apps/python/3.8.6/intel/bin/python -m pip install --upgrade pip' command.\u001b[0m\n"
     ]
    }
   ],
   "source": [
    "!pip install torch\n",
    "!pip install torchvision\n",
    "import os\n",
    "import sys\n",
    "import time\n",
    "import math\n",
    "import torch.nn.init as init\n",
    "\n",
    "import torch\n",
    "import torch.nn as nn\n",
    "import torch.optim as optim\n",
    "import torch.nn.functional as F\n",
    "import torch.backends.cudnn as cudnn\n",
    "\n",
    "import torchvision\n",
    "import torchvision.transforms as transforms\n",
    "import matplotlib.pyplot as plt"
   ]
  },
  {
   "cell_type": "markdown",
   "metadata": {},
   "source": [
    "## Utility functions"
   ]
  },
  {
   "cell_type": "code",
   "execution_count": 46,
   "metadata": {},
   "outputs": [],
   "source": [
    "def count_parameters(model):\n",
    "    return sum(p.numel() for p in model.parameters() if p.requires_grad)"
   ]
  },
  {
   "cell_type": "markdown",
   "metadata": {},
   "source": [
    "## Building the Model"
   ]
  },
  {
   "cell_type": "markdown",
   "metadata": {},
   "source": [
    "### ResNet 18 - Changing Planes - 2.9M parameters"
   ]
  },
  {
   "cell_type": "code",
   "execution_count": 47,
   "metadata": {},
   "outputs": [],
   "source": [
    "class BasicBlock(nn.Module):\n",
    "    expansion = 1\n",
    "\n",
    "    def __init__(self, in_planes, planes, stride=1):\n",
    "        super(BasicBlock, self).__init__()\n",
    "        self.conv1 = nn.Conv2d(\n",
    "            in_planes, planes, kernel_size=3, stride=stride, padding=1, bias=False)\n",
    "        self.bn1 = nn.BatchNorm2d(planes)\n",
    "        self.conv2 = nn.Conv2d(planes, planes, kernel_size=3,\n",
    "                               stride=1, padding=1, bias=False)\n",
    "        self.bn2 = nn.BatchNorm2d(planes)\n",
    "\n",
    "        self.shortcut = nn.Sequential()\n",
    "        if stride != 1 or in_planes != self.expansion*planes:\n",
    "            self.shortcut = nn.Sequential(\n",
    "                nn.Conv2d(in_planes, self.expansion*planes,\n",
    "                          kernel_size=1, stride=stride, bias=False),\n",
    "                nn.BatchNorm2d(self.expansion*planes)\n",
    "            )\n",
    "\n",
    "    def forward(self, x):\n",
    "        out = F.relu(self.bn1(self.conv1(x)))\n",
    "        out = self.bn2(self.conv2(out))\n",
    "        out += self.shortcut(x)\n",
    "        out = F.relu(out)\n",
    "        return out\n"
   ]
  },
  {
   "cell_type": "code",
   "execution_count": 48,
   "metadata": {},
   "outputs": [],
   "source": [
    "class ResNet(nn.Module):\n",
    "    def __init__(self, block, num_blocks, num_classes=10):\n",
    "        super(ResNet, self).__init__()\n",
    "        self.in_planes = 64\n",
    "\n",
    "        self.conv1 = nn.Conv2d(3, 64, kernel_size=3,\n",
    "                               stride=1, padding=1, bias=False)\n",
    "        self.bn1 = nn.BatchNorm2d(64)\n",
    "#         self.maxpool = nn.MaxPool2d(kernel_size=3, stride=2, padding=1)\n",
    "        self.layer1 = self._make_layer(block, 64, num_blocks[0], stride=1)\n",
    "        self.layer2 = self._make_layer(block, 64, num_blocks[1], stride=2)\n",
    "        self.layer3 = self._make_layer(block, 128, num_blocks[2], stride=2)\n",
    "        self.layer4 = self._make_layer(block, 256, num_blocks[3], stride=2)\n",
    "        self.linear = nn.Linear(256*block.expansion, num_classes)\n",
    "\n",
    "    def _make_layer(self, block, planes, num_blocks, stride):\n",
    "        strides = [stride] + [1]*(num_blocks-1)\n",
    "        layers = []\n",
    "        for stride in strides:\n",
    "            layers.append(block(self.in_planes, planes, stride))\n",
    "            self.in_planes = planes * block.expansion\n",
    "        return nn.Sequential(*layers)\n",
    "\n",
    "    def forward(self, x):\n",
    "        out = F.relu(self.bn1(self.conv1(x)))\n",
    "        out = self.layer1(out)\n",
    "        out = self.layer2(out)\n",
    "        out = self.layer3(out)\n",
    "        out = self.layer4(out)\n",
    "        out = F.avg_pool2d(out, 4)\n",
    "        out = out.view(out.size(0), -1)\n",
    "        out = self.linear(out)\n",
    "        return out"
   ]
  },
  {
   "cell_type": "code",
   "execution_count": 49,
   "metadata": {},
   "outputs": [],
   "source": [
    "def ResNet18():\n",
    "    return ResNet(BasicBlock, [2, 2, 2, 2])"
   ]
  },
  {
   "cell_type": "code",
   "execution_count": 50,
   "metadata": {},
   "outputs": [
    {
     "data": {
      "text/plain": [
       "'cuda'"
      ]
     },
     "execution_count": 50,
     "metadata": {},
     "output_type": "execute_result"
    }
   ],
   "source": [
    "device = 'cuda' if torch.cuda.is_available() else 'cpu'\n",
    "best_acc = 0  # best test accuracy\n",
    "start_epoch = 0  # start from epoch 0 or last checkpoint epoch\n",
    "device"
   ]
  },
  {
   "cell_type": "markdown",
   "metadata": {},
   "source": [
    "## Data Processing"
   ]
  },
  {
   "cell_type": "code",
   "execution_count": 51,
   "metadata": {},
   "outputs": [
    {
     "name": "stdout",
     "output_type": "stream",
     "text": [
      "==> Preparing data..\n"
     ]
    }
   ],
   "source": [
    "# Data\n",
    "print('==> Preparing data..')\n",
    "transform_train = transforms.Compose([\n",
    "    transforms.RandomCrop(32, padding=4),\n",
    "    transforms.RandomHorizontalFlip(),\n",
    "    transforms.ToTensor(),\n",
    "    transforms.Normalize((0.4914, 0.4822, 0.4465), (0.2023, 0.1994, 0.2010)),\n",
    "])\n",
    "\n",
    "transform_test = transforms.Compose([\n",
    "    transforms.ToTensor(),\n",
    "    transforms.Normalize((0.4914, 0.4822, 0.4465), (0.2023, 0.1994, 0.2010)),\n",
    "])"
   ]
  },
  {
   "cell_type": "code",
   "execution_count": 52,
   "metadata": {},
   "outputs": [
    {
     "name": "stdout",
     "output_type": "stream",
     "text": [
      "Files already downloaded and verified\n",
      "Files already downloaded and verified\n",
      "45000\n",
      "5000\n"
     ]
    }
   ],
   "source": [
    "\n",
    "ROOT = '.data'\n",
    "trainset = torchvision.datasets.CIFAR10(\n",
    "    root=ROOT, train=True, download=True, transform=transform_train)\n",
    "# trainloader = torch.utils.data.DataLoader(\n",
    "#     trainset, batch_size=128, shuffle=True, num_workers=2)\n",
    "\n",
    "testset = torchvision.datasets.CIFAR10(\n",
    "    root=ROOT , train=False, download=True, transform=transform_test)\n",
    "# testloader = torch.utils.data.DataLoader(\n",
    "#     testset, batch_size=100, shuffle=False, num_workers=2)\n",
    "VALID_RATIO = 0.9\n",
    "\n",
    "n_train_examples = int(len(trainset) * VALID_RATIO)\n",
    "n_valid_examples = len(trainset) - n_train_examples\n",
    "print(n_train_examples)\n",
    "print(n_valid_examples)\n",
    "generator=torch.Generator().manual_seed(42)\n",
    "\n",
    "train_data, valid_data = torch.utils.data.random_split(trainset, \n",
    "                                           [n_train_examples, n_valid_examples], generator = generator)"
   ]
  },
  {
   "cell_type": "code",
   "execution_count": 53,
   "metadata": {},
   "outputs": [],
   "source": [
    "import copy\n",
    "valid_data = copy.deepcopy(valid_data)\n",
    "valid_data.dataset.transform = transform_test"
   ]
  },
  {
   "cell_type": "code",
   "execution_count": 54,
   "metadata": {},
   "outputs": [],
   "source": [
    "trainloader = torch.utils.data.DataLoader(train_data, batch_size = 256, shuffle = True, num_workers=2)\n",
    "validloader = torch.utils.data.DataLoader(valid_data, batch_size = 256, shuffle = True)\n",
    "testloader = torch.utils.data.DataLoader(testset, batch_size = 256, shuffle = False, num_workers=2)"
   ]
  },
  {
   "cell_type": "code",
   "execution_count": 55,
   "metadata": {},
   "outputs": [],
   "source": [
    "classes = ('plane', 'car', 'bird', 'cat', 'deer',\n",
    "           'dog', 'frog', 'horse', 'ship', 'truck')"
   ]
  },
  {
   "cell_type": "code",
   "execution_count": 56,
   "metadata": {},
   "outputs": [
    {
     "name": "stdout",
     "output_type": "stream",
     "text": [
      "==> Building model..\n"
     ]
    }
   ],
   "source": [
    "print('==> Building model..')\n",
    "net = ResNet18()\n",
    "net = net.to(device)\n",
    "if device == 'cuda':\n",
    "    net = torch.nn.DataParallel(net)\n",
    "    cudnn.benchmark = True\n"
   ]
  },
  {
   "cell_type": "markdown",
   "metadata": {},
   "source": [
    "## Counting Parameters"
   ]
  },
  {
   "cell_type": "code",
   "execution_count": 57,
   "metadata": {
    "scrolled": false
   },
   "outputs": [
    {
     "name": "stdout",
     "output_type": "stream",
     "text": [
      "Number of trainable parameters:  2929866\n"
     ]
    }
   ],
   "source": [
    "print(\"Number of trainable parameters: \",count_parameters(net))"
   ]
  },
  {
   "cell_type": "code",
   "execution_count": 72,
   "metadata": {},
   "outputs": [
    {
     "data": {
      "text/plain": [
       "DataParallel(\n",
       "  (module): ResNet(\n",
       "    (conv1): Conv2d(3, 64, kernel_size=(3, 3), stride=(1, 1), padding=(1, 1), bias=False)\n",
       "    (bn1): BatchNorm2d(64, eps=1e-05, momentum=0.1, affine=True, track_running_stats=True)\n",
       "    (layer1): Sequential(\n",
       "      (0): BasicBlock(\n",
       "        (conv1): Conv2d(64, 64, kernel_size=(3, 3), stride=(1, 1), padding=(1, 1), bias=False)\n",
       "        (bn1): BatchNorm2d(64, eps=1e-05, momentum=0.1, affine=True, track_running_stats=True)\n",
       "        (conv2): Conv2d(64, 64, kernel_size=(3, 3), stride=(1, 1), padding=(1, 1), bias=False)\n",
       "        (bn2): BatchNorm2d(64, eps=1e-05, momentum=0.1, affine=True, track_running_stats=True)\n",
       "        (shortcut): Sequential()\n",
       "      )\n",
       "      (1): BasicBlock(\n",
       "        (conv1): Conv2d(64, 64, kernel_size=(3, 3), stride=(1, 1), padding=(1, 1), bias=False)\n",
       "        (bn1): BatchNorm2d(64, eps=1e-05, momentum=0.1, affine=True, track_running_stats=True)\n",
       "        (conv2): Conv2d(64, 64, kernel_size=(3, 3), stride=(1, 1), padding=(1, 1), bias=False)\n",
       "        (bn2): BatchNorm2d(64, eps=1e-05, momentum=0.1, affine=True, track_running_stats=True)\n",
       "        (shortcut): Sequential()\n",
       "      )\n",
       "    )\n",
       "    (layer2): Sequential(\n",
       "      (0): BasicBlock(\n",
       "        (conv1): Conv2d(64, 64, kernel_size=(3, 3), stride=(2, 2), padding=(1, 1), bias=False)\n",
       "        (bn1): BatchNorm2d(64, eps=1e-05, momentum=0.1, affine=True, track_running_stats=True)\n",
       "        (conv2): Conv2d(64, 64, kernel_size=(3, 3), stride=(1, 1), padding=(1, 1), bias=False)\n",
       "        (bn2): BatchNorm2d(64, eps=1e-05, momentum=0.1, affine=True, track_running_stats=True)\n",
       "        (shortcut): Sequential(\n",
       "          (0): Conv2d(64, 64, kernel_size=(1, 1), stride=(2, 2), bias=False)\n",
       "          (1): BatchNorm2d(64, eps=1e-05, momentum=0.1, affine=True, track_running_stats=True)\n",
       "        )\n",
       "      )\n",
       "      (1): BasicBlock(\n",
       "        (conv1): Conv2d(64, 64, kernel_size=(3, 3), stride=(1, 1), padding=(1, 1), bias=False)\n",
       "        (bn1): BatchNorm2d(64, eps=1e-05, momentum=0.1, affine=True, track_running_stats=True)\n",
       "        (conv2): Conv2d(64, 64, kernel_size=(3, 3), stride=(1, 1), padding=(1, 1), bias=False)\n",
       "        (bn2): BatchNorm2d(64, eps=1e-05, momentum=0.1, affine=True, track_running_stats=True)\n",
       "        (shortcut): Sequential()\n",
       "      )\n",
       "    )\n",
       "    (layer3): Sequential(\n",
       "      (0): BasicBlock(\n",
       "        (conv1): Conv2d(64, 128, kernel_size=(3, 3), stride=(2, 2), padding=(1, 1), bias=False)\n",
       "        (bn1): BatchNorm2d(128, eps=1e-05, momentum=0.1, affine=True, track_running_stats=True)\n",
       "        (conv2): Conv2d(128, 128, kernel_size=(3, 3), stride=(1, 1), padding=(1, 1), bias=False)\n",
       "        (bn2): BatchNorm2d(128, eps=1e-05, momentum=0.1, affine=True, track_running_stats=True)\n",
       "        (shortcut): Sequential(\n",
       "          (0): Conv2d(64, 128, kernel_size=(1, 1), stride=(2, 2), bias=False)\n",
       "          (1): BatchNorm2d(128, eps=1e-05, momentum=0.1, affine=True, track_running_stats=True)\n",
       "        )\n",
       "      )\n",
       "      (1): BasicBlock(\n",
       "        (conv1): Conv2d(128, 128, kernel_size=(3, 3), stride=(1, 1), padding=(1, 1), bias=False)\n",
       "        (bn1): BatchNorm2d(128, eps=1e-05, momentum=0.1, affine=True, track_running_stats=True)\n",
       "        (conv2): Conv2d(128, 128, kernel_size=(3, 3), stride=(1, 1), padding=(1, 1), bias=False)\n",
       "        (bn2): BatchNorm2d(128, eps=1e-05, momentum=0.1, affine=True, track_running_stats=True)\n",
       "        (shortcut): Sequential()\n",
       "      )\n",
       "    )\n",
       "    (layer4): Sequential(\n",
       "      (0): BasicBlock(\n",
       "        (conv1): Conv2d(128, 256, kernel_size=(3, 3), stride=(2, 2), padding=(1, 1), bias=False)\n",
       "        (bn1): BatchNorm2d(256, eps=1e-05, momentum=0.1, affine=True, track_running_stats=True)\n",
       "        (conv2): Conv2d(256, 256, kernel_size=(3, 3), stride=(1, 1), padding=(1, 1), bias=False)\n",
       "        (bn2): BatchNorm2d(256, eps=1e-05, momentum=0.1, affine=True, track_running_stats=True)\n",
       "        (shortcut): Sequential(\n",
       "          (0): Conv2d(128, 256, kernel_size=(1, 1), stride=(2, 2), bias=False)\n",
       "          (1): BatchNorm2d(256, eps=1e-05, momentum=0.1, affine=True, track_running_stats=True)\n",
       "        )\n",
       "      )\n",
       "      (1): BasicBlock(\n",
       "        (conv1): Conv2d(256, 256, kernel_size=(3, 3), stride=(1, 1), padding=(1, 1), bias=False)\n",
       "        (bn1): BatchNorm2d(256, eps=1e-05, momentum=0.1, affine=True, track_running_stats=True)\n",
       "        (conv2): Conv2d(256, 256, kernel_size=(3, 3), stride=(1, 1), padding=(1, 1), bias=False)\n",
       "        (bn2): BatchNorm2d(256, eps=1e-05, momentum=0.1, affine=True, track_running_stats=True)\n",
       "        (shortcut): Sequential()\n",
       "      )\n",
       "    )\n",
       "    (linear): Linear(in_features=256, out_features=10, bias=True)\n",
       "  )\n",
       ")"
      ]
     },
     "execution_count": 72,
     "metadata": {},
     "output_type": "execute_result"
    }
   ],
   "source": [
    "# displaying the architecture of the model to see how the input and output planes align \n",
    "\n",
    "net"
   ]
  },
  {
   "cell_type": "code",
   "execution_count": 64,
   "metadata": {},
   "outputs": [],
   "source": [
    "lr = 0.001"
   ]
  },
  {
   "cell_type": "code",
   "execution_count": 65,
   "metadata": {},
   "outputs": [],
   "source": [
    "# experimenting with both optimizers - Adam, SGD\n",
    "\n",
    "criterion = nn.CrossEntropyLoss()\n",
    "criterion = criterion.to(device)\n",
    "# optimizer = optim.SGD(net.parameters(), lr=lr,momentum=0.9, weight_decay=5e-4)\n",
    "optimizer = optim.Adam(net.parameters(), lr=lr)\n",
    "scheduler = torch.optim.lr_scheduler.CosineAnnealingLR(optimizer, T_max=200)"
   ]
  },
  {
   "cell_type": "code",
   "execution_count": 66,
   "metadata": {},
   "outputs": [],
   "source": [
    "def calculate_accuracy(y_pred, y):\n",
    "    top_pred = y_pred.argmax(1, keepdim = True)\n",
    "    correct = top_pred.eq(y.view_as(top_pred)).sum()\n",
    "    acc = correct.float() / y.shape[0]\n",
    "    return acc"
   ]
  },
  {
   "cell_type": "code",
   "execution_count": 67,
   "metadata": {},
   "outputs": [],
   "source": [
    "def train(net, iterator, optimizer, criterion, device):\n",
    "    epoch_loss = 0\n",
    "    epoch_acc = 0\n",
    "    net.train()\n",
    "    for (inputs, y) in iterator:\n",
    "        inputs = inputs.to(device)\n",
    "        y = y.to(device)\n",
    "        optimizer.zero_grad()\n",
    "        \n",
    "        y_pred = net(inputs)\n",
    "        loss = criterion(y_pred, y)\n",
    "        acc = calculate_accuracy(y_pred, y)\n",
    "        loss.backward()\n",
    "        optimizer.step()\n",
    "        epoch_loss += loss.item()\n",
    "        epoch_acc += acc.item()\n",
    "        \n",
    "    return epoch_loss / len(iterator), epoch_acc / len(iterator)"
   ]
  },
  {
   "cell_type": "code",
   "execution_count": 68,
   "metadata": {},
   "outputs": [],
   "source": [
    "def evaluate(net, iterator, criterion, device):\n",
    "    epoch_loss = 0\n",
    "    epoch_acc = 0\n",
    "    net.eval()\n",
    "    with torch.no_grad():\n",
    "        for (x, y) in iterator:\n",
    "            x = x.to(device)\n",
    "            y = y.to(device)\n",
    "            y_pred = net(x)\n",
    "            loss = criterion(y_pred, y)\n",
    "            acc = calculate_accuracy(y_pred, y)\n",
    "            epoch_loss += loss.item()\n",
    "            epoch_acc += acc.item()\n",
    "    return epoch_loss / len(iterator), epoch_acc / len(iterator)"
   ]
  },
  {
   "cell_type": "markdown",
   "metadata": {},
   "source": [
    "## Model 1 - 50 epochs, SGD optimizer, lr = 0.001"
   ]
  },
  {
   "cell_type": "code",
   "execution_count": 20,
   "metadata": {},
   "outputs": [
    {
     "name": "stdout",
     "output_type": "stream",
     "text": [
      "Epoch 0\n",
      "Train loss & accuracy 1.8601097898049788 0.3045037287202748\n",
      "Validation loss & accuracy 1.5772459924221038 0.41313189417123797\n",
      "Epoch 1\n",
      "Train loss & accuracy 1.485608382658525 0.44992720166390593\n",
      "Validation loss & accuracy 1.4451650142669679 0.4833524823188782\n",
      "Epoch 2\n",
      "Train loss & accuracy 1.3042200316082349 0.5247238989580761\n",
      "Validation loss & accuracy 1.2772607445716857 0.5447495400905609\n",
      "Epoch 3\n",
      "Train loss & accuracy 1.163966893133792 0.5799680396237157\n",
      "Validation loss & accuracy 1.1369553923606872 0.5966222435235977\n",
      "Epoch 4\n",
      "Train loss & accuracy 1.0623728212985126 0.6145756390284408\n",
      "Validation loss & accuracy 1.0518992334604262 0.6272633284330368\n",
      "Epoch 5\n",
      "Train loss & accuracy 0.9791627817533233 0.6496049358763478\n",
      "Validation loss & accuracy 1.0416016459465027 0.6244715064764023\n",
      "Epoch 6\n",
      "Train loss & accuracy 0.9110643856904723 0.672977627678351\n",
      "Validation loss & accuracy 1.0155232161283494 0.6454963237047195\n",
      "Epoch 7\n",
      "Train loss & accuracy 0.8628696023740552 0.6936283734711733\n",
      "Validation loss & accuracy 0.8722364902496338 0.6811810672283173\n",
      "Epoch 8\n",
      "Train loss & accuracy 0.8142983869395473 0.7110111859034408\n",
      "Validation loss & accuracy 0.8459990233182907 0.6978400737047196\n",
      "Epoch 9\n",
      "Train loss & accuracy 0.7695688327605074 0.7279545454816385\n",
      "Validation loss & accuracy 0.767378830909729 0.7231272965669632\n",
      "Epoch 10\n",
      "Train loss & accuracy 0.7241713438521732 0.7433975494720719\n",
      "Validation loss & accuracy 0.83232741355896 0.7135225176811218\n",
      "Epoch 11\n",
      "Train loss & accuracy 0.6889553561129353 0.7586789771237157\n",
      "Validation loss & accuracy 0.7194483757019043 0.7471392452716827\n",
      "Epoch 12\n",
      "Train loss & accuracy 0.6564077660441399 0.7688512073999102\n",
      "Validation loss & accuracy 0.7128663182258606 0.7469439327716827\n",
      "Epoch 13\n",
      "Train loss & accuracy 0.6304605823348869 0.7788938209414482\n",
      "Validation loss & accuracy 0.664526441693306 0.7629595577716828\n",
      "Epoch 14\n",
      "Train loss & accuracy 0.6026337717405774 0.7900390625\n",
      "Validation loss & accuracy 0.649142050743103 0.7732536762952804\n",
      "Epoch 15\n",
      "Train loss & accuracy 0.5819596500897949 0.7965474074537103\n",
      "Validation loss & accuracy 0.6911902844905853 0.7561810672283172\n",
      "Epoch 16\n",
      "Train loss & accuracy 0.5567511252381585 0.8072984729978171\n",
      "Validation loss & accuracy 0.6025746688246727 0.7927159935235977\n",
      "Epoch 17\n",
      "Train loss & accuracy 0.533994965932586 0.8154190338470719\n",
      "Validation loss & accuracy 0.6462445810437203 0.7665670961141586\n",
      "Epoch 18\n",
      "Train loss & accuracy 0.5190785930237987 0.8198393109169874\n",
      "Validation loss & accuracy 0.6220335781574249 0.7880399823188782\n",
      "Epoch 19\n",
      "Train loss & accuracy 0.4980196893553842 0.8258496092801745\n",
      "Validation loss & accuracy 0.671555957198143 0.7808478862047196\n",
      "Epoch 20\n",
      "Train loss & accuracy 0.4809542118825696 0.8324209871617231\n",
      "Validation loss & accuracy 0.5996550261974335 0.7913717836141586\n",
      "Epoch 21\n",
      "Train loss & accuracy 0.4642047324979847 0.8393661220642653\n",
      "Validation loss & accuracy 0.5945140853524208 0.7966337323188781\n",
      "Epoch 22\n",
      "Train loss & accuracy 0.4549030036750165 0.8419158380817283\n",
      "Validation loss & accuracy 0.5883041456341743 0.8031135112047195\n",
      "Epoch 23\n",
      "Train loss & accuracy 0.446076768704436 0.8436532315205444\n",
      "Validation loss & accuracy 0.5118721470236778 0.8238970577716828\n",
      "Epoch 24\n",
      "Train loss & accuracy 0.4221234079450369 0.8529643108221617\n",
      "Validation loss & accuracy 0.5319562196731568 0.8213809758424759\n",
      "Epoch 25\n",
      "Train loss & accuracy 0.40970324792645196 0.8577991832386364\n",
      "Validation loss & accuracy 0.5315303817391396 0.8191980689764022\n",
      "Epoch 26\n",
      "Train loss & accuracy 0.40574278657070617 0.8583034446293657\n",
      "Validation loss & accuracy 0.5301320120692253 0.8225988060235977\n",
      "Epoch 27\n",
      "Train loss & accuracy 0.38802343369884923 0.8646004972132769\n",
      "Validation loss & accuracy 0.5299233838915824 0.8276769310235977\n",
      "Epoch 28\n",
      "Train loss & accuracy 0.37890214828605 0.8677752129733562\n",
      "Validation loss & accuracy 0.481829559803009 0.8396484375\n",
      "Epoch 29\n",
      "Train loss & accuracy 0.3694452424956994 0.8704820668155496\n",
      "Validation loss & accuracy 0.5416970908641815 0.8189568012952805\n",
      "Epoch 30\n",
      "Train loss & accuracy 0.3591482017019933 0.8762961646372621\n",
      "Validation loss & accuracy 0.5625704973936081 0.8109489887952804\n",
      "Epoch 31\n",
      "Train loss & accuracy 0.3493076709353111 0.8782590553164482\n",
      "Validation loss & accuracy 0.5615032210946083 0.8181985288858413\n",
      "Epoch 32\n",
      "Train loss & accuracy 0.3360570676794106 0.8824573863636364\n",
      "Validation loss & accuracy 0.4830076783895493 0.8344669133424759\n",
      "Epoch 33\n",
      "Train loss & accuracy 0.33470169912007725 0.8836976205083457\n",
      "Validation loss & accuracy 0.4661376506090164 0.8402458637952804\n",
      "Epoch 34\n",
      "Train loss & accuracy 0.32294176425784826 0.8860786574130709\n",
      "Validation loss & accuracy 0.4445805326104164 0.8489659935235977\n",
      "Epoch 35\n",
      "Train loss & accuracy 0.31693517983975733 0.8895152698863636\n",
      "Validation loss & accuracy 0.49419581294059756 0.8334903508424759\n",
      "Epoch 36\n",
      "Train loss & accuracy 0.3078818509185856 0.8934881036931818\n",
      "Validation loss & accuracy 0.4984524860978127 0.8334329038858413\n",
      "Epoch 37\n",
      "Train loss & accuracy 0.29844854543493554 0.895493607968092\n",
      "Validation loss & accuracy 0.49048885256052016 0.835179227590561\n",
      "Epoch 38\n",
      "Train loss & accuracy 0.29364324623549526 0.8989382101730867\n",
      "Validation loss & accuracy 0.48071038722991943 0.8429802387952805\n",
      "Epoch 39\n",
      "Train loss & accuracy 0.2859984269704331 0.9015704897994344\n",
      "Validation loss & accuracy 0.48575234562158587 0.8375689327716828\n",
      "Epoch 40\n",
      "Train loss & accuracy 0.2778252680701288 0.9042036573995244\n",
      "Validation loss & accuracy 0.47528990507125857 0.8444623172283172\n",
      "Epoch 41\n",
      "Train loss & accuracy 0.27334238546477124 0.9044495736333457\n",
      "Validation loss & accuracy 0.4657861411571503 0.8491383284330368\n",
      "Epoch 42\n",
      "Train loss & accuracy 0.26633261584422807 0.907273614948446\n",
      "Validation loss & accuracy 0.4721666365861893 0.8479894310235977\n",
      "Epoch 43\n",
      "Train loss & accuracy 0.2625551190735264 0.9085076349702749\n",
      "Validation loss & accuracy 0.45840874016284944 0.8573414534330368\n",
      "Epoch 44\n",
      "Train loss & accuracy 0.25466821825301106 0.910418146035888\n",
      "Validation loss & accuracy 0.468037536740303 0.8514935672283173\n",
      "Epoch 45\n",
      "Train loss & accuracy 0.24629975542087446 0.9150159799239852\n",
      "Validation loss & accuracy 0.4660413786768913 0.8504136025905609\n",
      "Epoch 46\n",
      "Train loss & accuracy 0.24270127857611937 0.9153231531381607\n",
      "Validation loss & accuracy 0.5429968550801277 0.8364430159330368\n",
      "Epoch 47\n",
      "Train loss & accuracy 0.23563960156488148 0.9170419031923468\n",
      "Validation loss & accuracy 0.5067728757858276 0.8396369487047195\n",
      "Epoch 48\n",
      "Train loss & accuracy 0.23488587970760735 0.917104936120185\n",
      "Validation loss & accuracy 0.45503897219896317 0.8575482547283173\n",
      "Epoch 49\n",
      "Train loss & accuracy 0.23077250949361108 0.9205957031385466\n",
      "Validation loss & accuracy 0.4802044451236725 0.8519990801811218\n"
     ]
    }
   ],
   "source": [
    "EPOCHS = 50\n",
    "train_loss_history = []\n",
    "val_loss_history = []\n",
    "train_accuracies = []\n",
    "val_accuracies = []\n",
    "\n",
    "for epoch in range(EPOCHS):\n",
    "  train_epoch_loss , train_epoch_acc = train(net, trainloader, optimizer, criterion, device)\n",
    "  val_epoch_loss , val_epoch_acc = evaluate(net, validloader, criterion, device)\n",
    "\n",
    "  print(\"Epoch\", epoch)\n",
    "  print(\"Train loss & accuracy\", train_epoch_loss , train_epoch_acc)\n",
    "  train_loss_history.append(train_epoch_loss)\n",
    "  train_accuracies.append(train_epoch_acc)\n",
    "\n",
    "  print(\"Validation loss & accuracy\", val_epoch_loss , val_epoch_acc)\n",
    "  val_loss_history.append(val_epoch_loss)\n",
    "  val_accuracies.append(val_epoch_acc)\n",
    "\n",
    "PATH = './saved_models/planes1.pt'\n",
    "torch.save(net, PATH)"
   ]
  },
  {
   "cell_type": "code",
   "execution_count": 21,
   "metadata": {},
   "outputs": [
    {
     "data": {
      "text/plain": [
       "<matplotlib.legend.Legend at 0x147ce86bd340>"
      ]
     },
     "execution_count": 21,
     "metadata": {},
     "output_type": "execute_result"
    },
    {
     "data": {
      "image/png": "[encoded data removed]",
      "text/plain": [
       "<Figure size 432x288 with 1 Axes>"
      ]
     },
     "metadata": {
      "needs_background": "light"
     },
     "output_type": "display_data"
    }
   ],
   "source": [
    "# loss curves\n",
    "# lr = 0.001, SGD, 50 epochs, 64-64-128-256, no MaxPool, 2.9M parameters\n",
    "\n",
    "plt.plot(range(50),train_loss_history,'-',linewidth=3,label='Train error')\n",
    "plt.plot(range(50),val_loss_history,'-',linewidth=3,label='Test error')\n",
    "plt.xlabel('epoch')\n",
    "plt.ylabel('loss')\n",
    "plt.grid(True)\n",
    "plt.legend()"
   ]
  },
  {
   "cell_type": "code",
   "execution_count": 22,
   "metadata": {},
   "outputs": [
    {
     "data": {
      "text/plain": [
       "<matplotlib.legend.Legend at 0x147ce0a88fd0>"
      ]
     },
     "execution_count": 22,
     "metadata": {},
     "output_type": "execute_result"
    },
    {
     "data": {
      "image/png": "[encoded data removed]",
      "text/plain": [
       "<Figure size 432x288 with 1 Axes>"
      ]
     },
     "metadata": {
      "needs_background": "light"
     },
     "output_type": "display_data"
    }
   ],
   "source": [
    "# accuracy curves\n",
    "# lr = 0.001, SGD, 50 epochs, 64-64-128-256, no MaxPool, 2.9M parameters\n",
    "\n",
    "plt.plot(range(50), train_accuracies,'-', linewidth=3, label='Train accuracy')\n",
    "plt.plot(range(50), val_accuracies,'-', linewidth=3, label='Validation accuracy')\n",
    "\n",
    "plt.xlabel('Epoch')\n",
    "plt.ylabel('Accuracy')\n",
    "plt.grid()\n",
    "plt.legend()"
   ]
  },
  {
   "cell_type": "code",
   "execution_count": 77,
   "metadata": {},
   "outputs": [],
   "source": [
    "net1 = torch.load('./saved_models/planes1.pt')"
   ]
  },
  {
   "cell_type": "code",
   "execution_count": 78,
   "metadata": {},
   "outputs": [
    {
     "name": "stdout",
     "output_type": "stream",
     "text": [
      "0.5066149264574051\n",
      "0.84814453125\n"
     ]
    }
   ],
   "source": [
    "# TESTING\n",
    "\n",
    "test_loss_epoch, test_acc = evaluate(net1, testloader,criterion, device)\n",
    "print(test_loss_epoch)\n",
    "print(test_acc)"
   ]
  },
  {
   "cell_type": "markdown",
   "metadata": {},
   "source": [
    "## Model - 50 epochs, Adam Optimizer,  lr = 0.001"
   ]
  },
  {
   "cell_type": "code",
   "execution_count": 69,
   "metadata": {},
   "outputs": [
    {
     "name": "stdout",
     "output_type": "stream",
     "text": [
      "Epoch 0\n",
      "Train loss & accuracy 1.4617348821325735 0.45822798291390593\n",
      "Validation loss & accuracy 1.3021703124046327 0.5392233461141587\n",
      "Epoch 1\n",
      "Train loss & accuracy 0.9856503409418192 0.6454350142316385\n",
      "Validation loss & accuracy 0.9375302702188492 0.6678768396377563\n",
      "Epoch 2\n",
      "Train loss & accuracy 0.7739540578966791 0.7259978692639958\n",
      "Validation loss & accuracy 0.9116018533706665 0.7019761025905609\n",
      "Epoch 3\n",
      "Train loss & accuracy 0.6515633827922019 0.7707723721184514\n",
      "Validation loss & accuracy 0.696818208694458 0.7629825383424759\n",
      "Epoch 4\n",
      "Train loss & accuracy 0.5708132362501188 0.7999467328190804\n",
      "Validation loss & accuracy 0.6524815499782562 0.7817555159330368\n",
      "Epoch 5\n",
      "Train loss & accuracy 0.5114285896786235 0.8230131390419874\n",
      "Validation loss & accuracy 0.5748602882027626 0.8073874086141586\n",
      "Epoch 6\n",
      "Train loss & accuracy 0.4624841365624558 0.8397771661931818\n",
      "Validation loss & accuracy 0.6627177864313125 0.7825482547283172\n",
      "Epoch 7\n",
      "Train loss & accuracy 0.42878447557714855 0.8510937497697093\n",
      "Validation loss & accuracy 0.5169828444719314 0.8311006426811218\n",
      "Epoch 8\n",
      "Train loss & accuracy 0.3919700114056468 0.8640092326836153\n",
      "Validation loss & accuracy 0.5028473466634751 0.8331571698188782\n",
      "Epoch 9\n",
      "Train loss & accuracy 0.37357568994841794 0.8704847300594504\n",
      "Validation loss & accuracy 0.4427102252840996 0.8512752771377563\n",
      "Epoch 10\n",
      "Train loss & accuracy 0.3389375534924594 0.8814240057360042\n",
      "Validation loss & accuracy 0.45547940880060195 0.8461626827716827\n",
      "Epoch 11\n",
      "Train loss & accuracy 0.32044060494412074 0.8887908380817283\n",
      "Validation loss & accuracy 0.46256055384874345 0.8540556073188782\n",
      "Epoch 12\n",
      "Train loss & accuracy 0.29224974975328555 0.8979891687631607\n",
      "Validation loss & accuracy 0.45002797693014146 0.8485753685235977\n",
      "Epoch 13\n",
      "Train loss & accuracy 0.28287270512770524 0.900390625\n",
      "Validation loss & accuracy 0.4519706189632416 0.851171875\n",
      "Epoch 14\n",
      "Train loss & accuracy 0.26511114387010987 0.9075133167207241\n",
      "Validation loss & accuracy 0.39475157484412193 0.8716222435235977\n",
      "Epoch 15\n",
      "Train loss & accuracy 0.2479701256379485 0.9127263846722516\n",
      "Validation loss & accuracy 0.4047188311815262 0.8734145224094391\n",
      "Epoch 16\n",
      "Train loss & accuracy 0.23802912133661183 0.9154882810332559\n",
      "Validation loss & accuracy 0.44822281748056414 0.8621323525905609\n",
      "Epoch 17\n",
      "Train loss & accuracy 0.2215527334165844 0.9218732243911787\n",
      "Validation loss & accuracy 0.3762827172875404 0.8802504599094391\n",
      "Epoch 18\n",
      "Train loss & accuracy 0.21434304664250126 0.9251589131626216\n",
      "Validation loss & accuracy 0.5247928828001023 0.8378102034330368\n",
      "Epoch 19\n",
      "Train loss & accuracy 0.20344491256400943 0.9285537996752695\n",
      "Validation loss & accuracy 0.3317896842956543 0.8911879599094391\n",
      "Epoch 20\n",
      "Train loss & accuracy 0.1942021815868264 0.9313831674781713\n",
      "Validation loss & accuracy 0.38560664653778076 0.8793658077716827\n",
      "Epoch 21\n",
      "Train loss & accuracy 0.18827844809063457 0.9339568537067283\n",
      "Validation loss & accuracy 0.3752831146121025 0.8838694840669632\n",
      "Epoch 22\n",
      "Train loss & accuracy 0.17182128080590206 0.9395374642177061\n",
      "Validation loss & accuracy 0.40569248124957086 0.8816980689764022\n",
      "Epoch 23\n",
      "Train loss & accuracy 0.16784264841540295 0.9393572441556237\n",
      "Validation loss & accuracy 0.35484577864408495 0.8936006426811218\n",
      "Epoch 24\n",
      "Train loss & accuracy 0.15823616392233156 0.9441370737146247\n",
      "Validation loss & accuracy 0.451324126124382 0.8757008284330368\n",
      "Epoch 25\n",
      "Train loss & accuracy 0.15178948979486118 0.9464746093885466\n",
      "Validation loss & accuracy 0.36322165057063105 0.8893841922283172\n",
      "Epoch 26\n",
      "Train loss & accuracy 0.14615930665538393 0.9477654471993446\n",
      "Validation loss & accuracy 0.34548337385058403 0.8937614887952805\n",
      "Epoch 27\n",
      "Train loss & accuracy 0.13975937084548853 0.9506303265013478\n",
      "Validation loss & accuracy 0.4022486463189125 0.8880170047283172\n",
      "Epoch 28\n",
      "Train loss & accuracy 0.13707483441314913 0.950316938825629\n",
      "Validation loss & accuracy 0.3709139615297318 0.8950712323188782\n",
      "Epoch 29\n",
      "Train loss & accuracy 0.12734223292632538 0.9549085582521829\n",
      "Validation loss & accuracy 0.372808974981308 0.8918658077716828\n",
      "Epoch 30\n",
      "Train loss & accuracy 0.12471352852034298 0.9569122869182717\n",
      "Validation loss & accuracy 0.43570297956466675 0.8847541362047195\n",
      "Epoch 31\n",
      "Train loss & accuracy 0.119302593997087 0.9574129970913584\n",
      "Validation loss & accuracy 0.3466222211718559 0.8994715064764023\n",
      "Epoch 32\n",
      "Train loss & accuracy 0.10928999399766326 0.9616237570616332\n",
      "Validation loss & accuracy 0.40178135186433794 0.8897058814764023\n",
      "Epoch 33\n",
      "Train loss & accuracy 0.1094157531730492 0.9611985084008087\n",
      "Validation loss & accuracy 0.4290971592068672 0.8866727948188782\n",
      "Epoch 34\n",
      "Train loss & accuracy 0.1007541515017775 0.9638014913282611\n",
      "Validation loss & accuracy 0.36725322604179383 0.9022288590669632\n",
      "Epoch 35\n",
      "Train loss & accuracy 0.10195172190750865 0.9632714841176163\n",
      "Validation loss & accuracy 0.36031702235341073 0.9018382340669632\n",
      "Epoch 36\n",
      "Train loss & accuracy 0.09646003833040595 0.9661514559252695\n",
      "Validation loss & accuracy 0.4611554391682148 0.8833295047283173\n",
      "Epoch 37\n",
      "Train loss & accuracy 0.09402985800988972 0.9661283733492548\n",
      "Validation loss & accuracy 0.39555498510599135 0.8977136939764023\n",
      "Epoch 38\n",
      "Train loss & accuracy 0.09113293581388214 0.9682404117828066\n",
      "Validation loss & accuracy 0.3883152097463608 0.8959788590669632\n",
      "Epoch 39\n",
      "Train loss & accuracy 0.08276368216188117 0.9705868251621723\n",
      "Validation loss & accuracy 0.40986622869968414 0.8993221521377563\n",
      "Epoch 40\n",
      "Train loss & accuracy 0.08096233330963348 0.9713343392041597\n",
      "Validation loss & accuracy 0.3848857797682285 0.9035730689764023\n",
      "Epoch 41\n",
      "Train loss & accuracy 0.08031595318408852 0.9705424359576269\n",
      "Validation loss & accuracy 0.3631339430809021 0.9064797788858414\n",
      "Epoch 42\n",
      "Train loss & accuracy 0.07821840549480509 0.9719531248238954\n",
      "Validation loss & accuracy 0.377118968218565 0.9068244487047196\n",
      "Epoch 43\n",
      "Train loss & accuracy 0.07464760091071101 0.9737571020695296\n",
      "Validation loss & accuracy 0.37949143797159196 0.9051815271377563\n",
      "Epoch 44\n",
      "Train loss & accuracy 0.07424924437972633 0.9733611504462633\n",
      "Validation loss & accuracy 0.38059075474739074 0.9096507340669632\n",
      "Epoch 45\n",
      "Train loss & accuracy 0.07097134204708379 0.9740456318990751\n",
      "Validation loss & accuracy 0.3794493958353996 0.9054227948188782\n",
      "Epoch 46\n",
      "Train loss & accuracy 0.07008544441354884 0.9755548648536205\n",
      "Validation loss & accuracy 0.4360734194517136 0.8983685672283173\n",
      "Epoch 47\n",
      "Train loss & accuracy 0.06379059230146761 0.9764364344829862\n",
      "Validation loss & accuracy 0.45847316533327104 0.8947610288858414\n",
      "Epoch 48\n",
      "Train loss & accuracy 0.06304668166293678 0.977336647496982\n",
      "Validation loss & accuracy 0.40283286273479463 0.9061810672283173\n",
      "Epoch 49\n",
      "Train loss & accuracy 0.066899492807517 0.9755548648536205\n",
      "Validation loss & accuracy 0.4148958742618561 0.9072380512952805\n"
     ]
    }
   ],
   "source": [
    "EPOCHS = 50\n",
    "train_loss_history = []\n",
    "val_loss_history = []\n",
    "train_accuracies = []\n",
    "val_accuracies = []\n",
    "\n",
    "for epoch in range(EPOCHS):\n",
    "  train_epoch_loss , train_epoch_acc = train(net, trainloader, optimizer, criterion, device)\n",
    "  val_epoch_loss , val_epoch_acc = evaluate(net, validloader, criterion, device)\n",
    "\n",
    "  print(\"Epoch\", epoch)\n",
    "  print(\"Train loss & accuracy\", train_epoch_loss , train_epoch_acc)\n",
    "  train_loss_history.append(train_epoch_loss)\n",
    "  train_accuracies.append(train_epoch_acc)\n",
    "\n",
    "  print(\"Validation loss & accuracy\", val_epoch_loss , val_epoch_acc)\n",
    "  val_loss_history.append(val_epoch_loss)\n",
    "  val_accuracies.append(val_epoch_acc)\n",
    "\n",
    "PATH = './saved_models/planes1-adam.pt'\n",
    "torch.save(net, PATH)"
   ]
  },
  {
   "cell_type": "code",
   "execution_count": 70,
   "metadata": {},
   "outputs": [
    {
     "data": {
      "text/plain": [
       "<matplotlib.legend.Legend at 0x147ce1ed4ee0>"
      ]
     },
     "execution_count": 70,
     "metadata": {},
     "output_type": "execute_result"
    },
    {
     "data": {
      "image/png": "[encoded data removed]",
      "text/plain": [
       "<Figure size 432x288 with 1 Axes>"
      ]
     },
     "metadata": {
      "needs_background": "light"
     },
     "output_type": "display_data"
    }
   ],
   "source": [
    "# loss curves\n",
    "# lr = 0.001, Adam, 50 epochs, 64-64-128-256, no MaxPool, 2.9M parameters\n",
    "\n",
    "plt.plot(range(50),train_loss_history,'-',linewidth=3,label='Train error')\n",
    "plt.plot(range(50),val_loss_history,'-',linewidth=3,label='Test error')\n",
    "plt.xlabel('epoch')\n",
    "plt.ylabel('loss')\n",
    "plt.grid(True)\n",
    "plt.legend()"
   ]
  },
  {
   "cell_type": "code",
   "execution_count": 71,
   "metadata": {},
   "outputs": [
    {
     "data": {
      "text/plain": [
       "<matplotlib.legend.Legend at 0x147ce031a490>"
      ]
     },
     "execution_count": 71,
     "metadata": {},
     "output_type": "execute_result"
    },
    {
     "data": {
      "image/png": "[encoded data removed]",
      "text/plain": [
       "<Figure size 432x288 with 1 Axes>"
      ]
     },
     "metadata": {
      "needs_background": "light"
     },
     "output_type": "display_data"
    }
   ],
   "source": [
    "# accuracy curves\n",
    "# lr = 0.001, Adam, 50 epochs, 64-64-128-256, no MaxPool, 2.9M parameters\n",
    "\n",
    "plt.plot(range(50), train_accuracies,'-', linewidth=3, label='Train accuracy')\n",
    "plt.plot(range(50), val_accuracies,'-', linewidth=3, label='Validation accuracy')\n",
    "\n",
    "plt.xlabel('Epoch')\n",
    "plt.ylabel('Accuracy')\n",
    "plt.grid()\n",
    "plt.legend()"
   ]
  },
  {
   "cell_type": "code",
   "execution_count": 73,
   "metadata": {},
   "outputs": [
    {
     "name": "stdout",
     "output_type": "stream",
     "text": [
      "0.4432282768189907\n",
      "0.89912109375\n"
     ]
    }
   ],
   "source": [
    "# TESTING\n",
    "\n",
    "test_loss_epoch, test_acc = evaluate(net, testloader,criterion, device)\n",
    "print(test_loss_epoch)\n",
    "print(test_acc)"
   ]
  },
  {
   "cell_type": "code",
   "execution_count": null,
   "metadata": {},
   "outputs": [],
   "source": []
  }
 ],
 "metadata": {
  "kernelspec": {
   "display_name": "Python 3",
   "language": "python",
   "name": "python3"
  },
  "language_info": {
   "codemirror_mode": {
    "name": "ipython",
    "version": 3
   },
   "file_extension": ".py",
   "mimetype": "text/x-python",
   "name": "python",
   "nbconvert_exporter": "python",
   "pygments_lexer": "ipython3",
   "version": "3.8.6"
  },
  "toc-autonumbering": true,
  "toc-showcode": true
 },
 "nbformat": 4,
 "nbformat_minor": 5
}
